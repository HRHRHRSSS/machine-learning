{
 "cells": [
  {
   "cell_type": "code",
   "execution_count": 1,
   "id": "34246eb8",
   "metadata": {},
   "outputs": [],
   "source": [
    "import pandas as pd\n",
    "import matplotlib as mpl\n",
    "import plotly.express as px\n",
    "import scipy.stats as stats\n",
    "import numpy as np\n",
    "\n",
    "mpl.rc('font', family = 'AppleGothic')"
   ]
  },
  {
   "cell_type": "code",
   "execution_count": 2,
   "id": "d1d19d5a",
   "metadata": {},
   "outputs": [],
   "source": [
    "df1 = pd.read_csv('01_Data.csv')"
   ]
  },
  {
   "cell_type": "markdown",
   "id": "493dec2d",
   "metadata": {},
   "source": [
    "# 기계학습의 종류\n",
    "\n",
    "1. 지도 학습(Supervised Learning) : 목표변수(Y)와 설명변수(X)의 관계를 학습해서, 새로운 X가 들어올 때, Y를 예측/분류\n",
    "    - 회귀 (Regression - Y 연속형) : 특정 값을 최대한 가깝게 예측하는 것이 목적\n",
    "    - 분류 (Classification - Y 범주형) : 특정 항목인지 아닌지를 정확하게 분류하는 것이 목적(평가 지표들이 많다!)\n",
    "    - Ex) 고객 해약 예측 (정상 / 해악) / 스팸메세지 분류기 (스팸/정상) / 주가 예측 (회사의 정보 -> 주가) ...\n",
    "    \n",
    "2. 비지도학습(Unsupervised Learning) : 설명변수(X) 데이터 간의 수학적 거리/ 유사성 / 상관성 등을 이용하여, 비슷한 유형의 데이터를 묶거나 연관있는 데이터를 찾거나, 데이터의 차원을 줄이는 등의 학습 기법\n",
    "    - 군집분석 (Clustering) : 비슷한 위치 또는 가가운 위치의 (특성이 비슷한) 데이터를 묶어주는 학습 기법\n",
    "    - 차원축소 : 특정 데이터의 항목 수 (Columns)를 줄이는 기법\n",
    "    - 연관분석 : 특정 데이터의 유사한 항목을 찾아주는 기법\n",
    "    Ex) 장바구니 분석 / 추천 시스템 ...\n",
    "    \n",
    "    \n",
    "- 준지도 학습 (Semi Supervised learning) : 비지도학습 + 지도학습 결합\n",
    "\n",
    "3. 강화학습(Reinforcement Learning) : 컴퓨터 시뮬레이션을 통해 사용자가 설정한 환경에 대해, 적절한 보상이 주어지는 방향으로 학습을 수행\n",
    "    - 데이터가 없이도 학습이 가능\n",
    "    - 게임 AI (알파고)"
   ]
  },
  {
   "cell_type": "markdown",
   "id": "2ca73806",
   "metadata": {},
   "source": [
    "**지도 학습 절차**\n",
    "\n",
    "1. 데이터 핸들링 (데이터를 병합 / 파생 변수 생성 / 데이터 선택 / 이상치 제거 /...)\n",
    "2. 학습의 목표변수(Y)와 설명변수(X)를 설정\n",
    "    - 유의 사항 : 사용되는 X 설명변수는 새로 들어올 데이터에 대한 값으로 설정\n",
    "3. 학습 데이터(Train Set)와 검증 데이터(Test Set)를 분할\n",
    "    - 검증 데이터(Test Set)는 절대로 학습에 참여하지 않는다!\n",
    "    - (교차검증 기법에서 Validation Set은 학습에 참여함 <-> Test Set과 별개!)\n",
    "4. 학습 수행\n",
    "    - 특성공학 (Feature Engineering) : 학습에 맞게 데이터를 처리\n",
    "        - 스케일링 / 인코딩 / 교차검증 / 변수선택법 ...\n",
    "    - 학습\n",
    "5. 학습 된 모델의 성능을 평가\n",
    "    - 학습 능력\n",
    "    - 일반화 능력\n",
    "6. 적용(새로운 데이터 입력 / 파일형태로 저장)"
   ]
  },
  {
   "cell_type": "markdown",
   "id": "4c018b04",
   "metadata": {},
   "source": [
    "- 고객들의 정보를 이용하여, 해약 여부를 판별하는 모델을 생성"
   ]
  },
  {
   "cell_type": "code",
   "execution_count": 3,
   "id": "7ee043e1",
   "metadata": {},
   "outputs": [
    {
     "data": {
      "text/plain": [
       "array(['계약확정', '기간만료', '해약확정', '해약진행중'], dtype=object)"
      ]
     },
     "execution_count": 3,
     "metadata": {},
     "output_type": "execute_result"
    }
   ],
   "source": [
    "# 1. 데이터 핸들링\n",
    "df1['State'].unique()"
   ]
  },
  {
   "cell_type": "code",
   "execution_count": 4,
   "id": "6eb52243",
   "metadata": {},
   "outputs": [
    {
     "data": {
      "text/plain": [
       "해약여부\n",
       "0    50620\n",
       "1      681\n",
       "Name: count, dtype: int64"
      ]
     },
     "execution_count": 4,
     "metadata": {},
     "output_type": "execute_result"
    }
   ],
   "source": [
    "df1['해약여부'] = df1['State'].replace({'계약확정':0, '기간만료':1,\n",
    "                                   '해약확정':1, '해약진행중':1})\n",
    "df1['해약여부'].value_counts()"
   ]
  },
  {
   "cell_type": "code",
   "execution_count": 5,
   "id": "873016c1",
   "metadata": {},
   "outputs": [],
   "source": [
    "df2 = df1.dropna() # 결측값제거"
   ]
  },
  {
   "cell_type": "code",
   "execution_count": 6,
   "id": "216fc993",
   "metadata": {},
   "outputs": [],
   "source": [
    "#2. 목표변수 Y / 설명변수 X 선택\n",
    "Y = df2['해약여부']\n",
    "X = df2[['Age', 'Credit_Rank', 'Amount_Month', 'Term']]"
   ]
  },
  {
   "cell_type": "code",
   "execution_count": 7,
   "id": "a2f76964",
   "metadata": {},
   "outputs": [],
   "source": [
    "# 3. 학습 데이터와 검증 데이터를 분할\n",
    "from sklearn.model_selection import train_test_split"
   ]
  },
  {
   "cell_type": "code",
   "execution_count": 8,
   "id": "8c95f324",
   "metadata": {},
   "outputs": [],
   "source": [
    "X_train, X_test, Y_train, Y_test = train_test_split(X,Y,\n",
    "                                                   random_state = 1234)"
   ]
  },
  {
   "cell_type": "code",
   "execution_count": 9,
   "id": "020d0b91",
   "metadata": {},
   "outputs": [],
   "source": [
    "#4. 학습을 수행\n",
    "from sklearn.tree import DecisionTreeClassifier"
   ]
  },
  {
   "cell_type": "code",
   "execution_count": 10,
   "id": "39657db6",
   "metadata": {},
   "outputs": [
    {
     "data": {
      "text/html": [
       "<style>#sk-container-id-1 {\n",
       "  /* Definition of color scheme common for light and dark mode */\n",
       "  --sklearn-color-text: black;\n",
       "  --sklearn-color-line: gray;\n",
       "  /* Definition of color scheme for unfitted estimators */\n",
       "  --sklearn-color-unfitted-level-0: #fff5e6;\n",
       "  --sklearn-color-unfitted-level-1: #f6e4d2;\n",
       "  --sklearn-color-unfitted-level-2: #ffe0b3;\n",
       "  --sklearn-color-unfitted-level-3: chocolate;\n",
       "  /* Definition of color scheme for fitted estimators */\n",
       "  --sklearn-color-fitted-level-0: #f0f8ff;\n",
       "  --sklearn-color-fitted-level-1: #d4ebff;\n",
       "  --sklearn-color-fitted-level-2: #b3dbfd;\n",
       "  --sklearn-color-fitted-level-3: cornflowerblue;\n",
       "\n",
       "  /* Specific color for light theme */\n",
       "  --sklearn-color-text-on-default-background: var(--sg-text-color, var(--theme-code-foreground, var(--jp-content-font-color1, black)));\n",
       "  --sklearn-color-background: var(--sg-background-color, var(--theme-background, var(--jp-layout-color0, white)));\n",
       "  --sklearn-color-border-box: var(--sg-text-color, var(--theme-code-foreground, var(--jp-content-font-color1, black)));\n",
       "  --sklearn-color-icon: #696969;\n",
       "\n",
       "  @media (prefers-color-scheme: dark) {\n",
       "    /* Redefinition of color scheme for dark theme */\n",
       "    --sklearn-color-text-on-default-background: var(--sg-text-color, var(--theme-code-foreground, var(--jp-content-font-color1, white)));\n",
       "    --sklearn-color-background: var(--sg-background-color, var(--theme-background, var(--jp-layout-color0, #111)));\n",
       "    --sklearn-color-border-box: var(--sg-text-color, var(--theme-code-foreground, var(--jp-content-font-color1, white)));\n",
       "    --sklearn-color-icon: #878787;\n",
       "  }\n",
       "}\n",
       "\n",
       "#sk-container-id-1 {\n",
       "  color: var(--sklearn-color-text);\n",
       "}\n",
       "\n",
       "#sk-container-id-1 pre {\n",
       "  padding: 0;\n",
       "}\n",
       "\n",
       "#sk-container-id-1 input.sk-hidden--visually {\n",
       "  border: 0;\n",
       "  clip: rect(1px 1px 1px 1px);\n",
       "  clip: rect(1px, 1px, 1px, 1px);\n",
       "  height: 1px;\n",
       "  margin: -1px;\n",
       "  overflow: hidden;\n",
       "  padding: 0;\n",
       "  position: absolute;\n",
       "  width: 1px;\n",
       "}\n",
       "\n",
       "#sk-container-id-1 div.sk-dashed-wrapped {\n",
       "  border: 1px dashed var(--sklearn-color-line);\n",
       "  margin: 0 0.4em 0.5em 0.4em;\n",
       "  box-sizing: border-box;\n",
       "  padding-bottom: 0.4em;\n",
       "  background-color: var(--sklearn-color-background);\n",
       "}\n",
       "\n",
       "#sk-container-id-1 div.sk-container {\n",
       "  /* jupyter's `normalize.less` sets `[hidden] { display: none; }`\n",
       "     but bootstrap.min.css set `[hidden] { display: none !important; }`\n",
       "     so we also need the `!important` here to be able to override the\n",
       "     default hidden behavior on the sphinx rendered scikit-learn.org.\n",
       "     See: https://github.com/scikit-learn/scikit-learn/issues/21755 */\n",
       "  display: inline-block !important;\n",
       "  position: relative;\n",
       "}\n",
       "\n",
       "#sk-container-id-1 div.sk-text-repr-fallback {\n",
       "  display: none;\n",
       "}\n",
       "\n",
       "div.sk-parallel-item,\n",
       "div.sk-serial,\n",
       "div.sk-item {\n",
       "  /* draw centered vertical line to link estimators */\n",
       "  background-image: linear-gradient(var(--sklearn-color-text-on-default-background), var(--sklearn-color-text-on-default-background));\n",
       "  background-size: 2px 100%;\n",
       "  background-repeat: no-repeat;\n",
       "  background-position: center center;\n",
       "}\n",
       "\n",
       "/* Parallel-specific style estimator block */\n",
       "\n",
       "#sk-container-id-1 div.sk-parallel-item::after {\n",
       "  content: \"\";\n",
       "  width: 100%;\n",
       "  border-bottom: 2px solid var(--sklearn-color-text-on-default-background);\n",
       "  flex-grow: 1;\n",
       "}\n",
       "\n",
       "#sk-container-id-1 div.sk-parallel {\n",
       "  display: flex;\n",
       "  align-items: stretch;\n",
       "  justify-content: center;\n",
       "  background-color: var(--sklearn-color-background);\n",
       "  position: relative;\n",
       "}\n",
       "\n",
       "#sk-container-id-1 div.sk-parallel-item {\n",
       "  display: flex;\n",
       "  flex-direction: column;\n",
       "}\n",
       "\n",
       "#sk-container-id-1 div.sk-parallel-item:first-child::after {\n",
       "  align-self: flex-end;\n",
       "  width: 50%;\n",
       "}\n",
       "\n",
       "#sk-container-id-1 div.sk-parallel-item:last-child::after {\n",
       "  align-self: flex-start;\n",
       "  width: 50%;\n",
       "}\n",
       "\n",
       "#sk-container-id-1 div.sk-parallel-item:only-child::after {\n",
       "  width: 0;\n",
       "}\n",
       "\n",
       "/* Serial-specific style estimator block */\n",
       "\n",
       "#sk-container-id-1 div.sk-serial {\n",
       "  display: flex;\n",
       "  flex-direction: column;\n",
       "  align-items: center;\n",
       "  background-color: var(--sklearn-color-background);\n",
       "  padding-right: 1em;\n",
       "  padding-left: 1em;\n",
       "}\n",
       "\n",
       "\n",
       "/* Toggleable style: style used for estimator/Pipeline/ColumnTransformer box that is\n",
       "clickable and can be expanded/collapsed.\n",
       "- Pipeline and ColumnTransformer use this feature and define the default style\n",
       "- Estimators will overwrite some part of the style using the `sk-estimator` class\n",
       "*/\n",
       "\n",
       "/* Pipeline and ColumnTransformer style (default) */\n",
       "\n",
       "#sk-container-id-1 div.sk-toggleable {\n",
       "  /* Default theme specific background. It is overwritten whether we have a\n",
       "  specific estimator or a Pipeline/ColumnTransformer */\n",
       "  background-color: var(--sklearn-color-background);\n",
       "}\n",
       "\n",
       "/* Toggleable label */\n",
       "#sk-container-id-1 label.sk-toggleable__label {\n",
       "  cursor: pointer;\n",
       "  display: block;\n",
       "  width: 100%;\n",
       "  margin-bottom: 0;\n",
       "  padding: 0.5em;\n",
       "  box-sizing: border-box;\n",
       "  text-align: center;\n",
       "}\n",
       "\n",
       "#sk-container-id-1 label.sk-toggleable__label-arrow:before {\n",
       "  /* Arrow on the left of the label */\n",
       "  content: \"▸\";\n",
       "  float: left;\n",
       "  margin-right: 0.25em;\n",
       "  color: var(--sklearn-color-icon);\n",
       "}\n",
       "\n",
       "#sk-container-id-1 label.sk-toggleable__label-arrow:hover:before {\n",
       "  color: var(--sklearn-color-text);\n",
       "}\n",
       "\n",
       "/* Toggleable content - dropdown */\n",
       "\n",
       "#sk-container-id-1 div.sk-toggleable__content {\n",
       "  max-height: 0;\n",
       "  max-width: 0;\n",
       "  overflow: hidden;\n",
       "  text-align: left;\n",
       "  /* unfitted */\n",
       "  background-color: var(--sklearn-color-unfitted-level-0);\n",
       "}\n",
       "\n",
       "#sk-container-id-1 div.sk-toggleable__content.fitted {\n",
       "  /* fitted */\n",
       "  background-color: var(--sklearn-color-fitted-level-0);\n",
       "}\n",
       "\n",
       "#sk-container-id-1 div.sk-toggleable__content pre {\n",
       "  margin: 0.2em;\n",
       "  border-radius: 0.25em;\n",
       "  color: var(--sklearn-color-text);\n",
       "  /* unfitted */\n",
       "  background-color: var(--sklearn-color-unfitted-level-0);\n",
       "}\n",
       "\n",
       "#sk-container-id-1 div.sk-toggleable__content.fitted pre {\n",
       "  /* unfitted */\n",
       "  background-color: var(--sklearn-color-fitted-level-0);\n",
       "}\n",
       "\n",
       "#sk-container-id-1 input.sk-toggleable__control:checked~div.sk-toggleable__content {\n",
       "  /* Expand drop-down */\n",
       "  max-height: 200px;\n",
       "  max-width: 100%;\n",
       "  overflow: auto;\n",
       "}\n",
       "\n",
       "#sk-container-id-1 input.sk-toggleable__control:checked~label.sk-toggleable__label-arrow:before {\n",
       "  content: \"▾\";\n",
       "}\n",
       "\n",
       "/* Pipeline/ColumnTransformer-specific style */\n",
       "\n",
       "#sk-container-id-1 div.sk-label input.sk-toggleable__control:checked~label.sk-toggleable__label {\n",
       "  color: var(--sklearn-color-text);\n",
       "  background-color: var(--sklearn-color-unfitted-level-2);\n",
       "}\n",
       "\n",
       "#sk-container-id-1 div.sk-label.fitted input.sk-toggleable__control:checked~label.sk-toggleable__label {\n",
       "  background-color: var(--sklearn-color-fitted-level-2);\n",
       "}\n",
       "\n",
       "/* Estimator-specific style */\n",
       "\n",
       "/* Colorize estimator box */\n",
       "#sk-container-id-1 div.sk-estimator input.sk-toggleable__control:checked~label.sk-toggleable__label {\n",
       "  /* unfitted */\n",
       "  background-color: var(--sklearn-color-unfitted-level-2);\n",
       "}\n",
       "\n",
       "#sk-container-id-1 div.sk-estimator.fitted input.sk-toggleable__control:checked~label.sk-toggleable__label {\n",
       "  /* fitted */\n",
       "  background-color: var(--sklearn-color-fitted-level-2);\n",
       "}\n",
       "\n",
       "#sk-container-id-1 div.sk-label label.sk-toggleable__label,\n",
       "#sk-container-id-1 div.sk-label label {\n",
       "  /* The background is the default theme color */\n",
       "  color: var(--sklearn-color-text-on-default-background);\n",
       "}\n",
       "\n",
       "/* On hover, darken the color of the background */\n",
       "#sk-container-id-1 div.sk-label:hover label.sk-toggleable__label {\n",
       "  color: var(--sklearn-color-text);\n",
       "  background-color: var(--sklearn-color-unfitted-level-2);\n",
       "}\n",
       "\n",
       "/* Label box, darken color on hover, fitted */\n",
       "#sk-container-id-1 div.sk-label.fitted:hover label.sk-toggleable__label.fitted {\n",
       "  color: var(--sklearn-color-text);\n",
       "  background-color: var(--sklearn-color-fitted-level-2);\n",
       "}\n",
       "\n",
       "/* Estimator label */\n",
       "\n",
       "#sk-container-id-1 div.sk-label label {\n",
       "  font-family: monospace;\n",
       "  font-weight: bold;\n",
       "  display: inline-block;\n",
       "  line-height: 1.2em;\n",
       "}\n",
       "\n",
       "#sk-container-id-1 div.sk-label-container {\n",
       "  text-align: center;\n",
       "}\n",
       "\n",
       "/* Estimator-specific */\n",
       "#sk-container-id-1 div.sk-estimator {\n",
       "  font-family: monospace;\n",
       "  border: 1px dotted var(--sklearn-color-border-box);\n",
       "  border-radius: 0.25em;\n",
       "  box-sizing: border-box;\n",
       "  margin-bottom: 0.5em;\n",
       "  /* unfitted */\n",
       "  background-color: var(--sklearn-color-unfitted-level-0);\n",
       "}\n",
       "\n",
       "#sk-container-id-1 div.sk-estimator.fitted {\n",
       "  /* fitted */\n",
       "  background-color: var(--sklearn-color-fitted-level-0);\n",
       "}\n",
       "\n",
       "/* on hover */\n",
       "#sk-container-id-1 div.sk-estimator:hover {\n",
       "  /* unfitted */\n",
       "  background-color: var(--sklearn-color-unfitted-level-2);\n",
       "}\n",
       "\n",
       "#sk-container-id-1 div.sk-estimator.fitted:hover {\n",
       "  /* fitted */\n",
       "  background-color: var(--sklearn-color-fitted-level-2);\n",
       "}\n",
       "\n",
       "/* Specification for estimator info (e.g. \"i\" and \"?\") */\n",
       "\n",
       "/* Common style for \"i\" and \"?\" */\n",
       "\n",
       ".sk-estimator-doc-link,\n",
       "a:link.sk-estimator-doc-link,\n",
       "a:visited.sk-estimator-doc-link {\n",
       "  float: right;\n",
       "  font-size: smaller;\n",
       "  line-height: 1em;\n",
       "  font-family: monospace;\n",
       "  background-color: var(--sklearn-color-background);\n",
       "  border-radius: 1em;\n",
       "  height: 1em;\n",
       "  width: 1em;\n",
       "  text-decoration: none !important;\n",
       "  margin-left: 1ex;\n",
       "  /* unfitted */\n",
       "  border: var(--sklearn-color-unfitted-level-1) 1pt solid;\n",
       "  color: var(--sklearn-color-unfitted-level-1);\n",
       "}\n",
       "\n",
       ".sk-estimator-doc-link.fitted,\n",
       "a:link.sk-estimator-doc-link.fitted,\n",
       "a:visited.sk-estimator-doc-link.fitted {\n",
       "  /* fitted */\n",
       "  border: var(--sklearn-color-fitted-level-1) 1pt solid;\n",
       "  color: var(--sklearn-color-fitted-level-1);\n",
       "}\n",
       "\n",
       "/* On hover */\n",
       "div.sk-estimator:hover .sk-estimator-doc-link:hover,\n",
       ".sk-estimator-doc-link:hover,\n",
       "div.sk-label-container:hover .sk-estimator-doc-link:hover,\n",
       ".sk-estimator-doc-link:hover {\n",
       "  /* unfitted */\n",
       "  background-color: var(--sklearn-color-unfitted-level-3);\n",
       "  color: var(--sklearn-color-background);\n",
       "  text-decoration: none;\n",
       "}\n",
       "\n",
       "div.sk-estimator.fitted:hover .sk-estimator-doc-link.fitted:hover,\n",
       ".sk-estimator-doc-link.fitted:hover,\n",
       "div.sk-label-container:hover .sk-estimator-doc-link.fitted:hover,\n",
       ".sk-estimator-doc-link.fitted:hover {\n",
       "  /* fitted */\n",
       "  background-color: var(--sklearn-color-fitted-level-3);\n",
       "  color: var(--sklearn-color-background);\n",
       "  text-decoration: none;\n",
       "}\n",
       "\n",
       "/* Span, style for the box shown on hovering the info icon */\n",
       ".sk-estimator-doc-link span {\n",
       "  display: none;\n",
       "  z-index: 9999;\n",
       "  position: relative;\n",
       "  font-weight: normal;\n",
       "  right: .2ex;\n",
       "  padding: .5ex;\n",
       "  margin: .5ex;\n",
       "  width: min-content;\n",
       "  min-width: 20ex;\n",
       "  max-width: 50ex;\n",
       "  color: var(--sklearn-color-text);\n",
       "  box-shadow: 2pt 2pt 4pt #999;\n",
       "  /* unfitted */\n",
       "  background: var(--sklearn-color-unfitted-level-0);\n",
       "  border: .5pt solid var(--sklearn-color-unfitted-level-3);\n",
       "}\n",
       "\n",
       ".sk-estimator-doc-link.fitted span {\n",
       "  /* fitted */\n",
       "  background: var(--sklearn-color-fitted-level-0);\n",
       "  border: var(--sklearn-color-fitted-level-3);\n",
       "}\n",
       "\n",
       ".sk-estimator-doc-link:hover span {\n",
       "  display: block;\n",
       "}\n",
       "\n",
       "/* \"?\"-specific style due to the `<a>` HTML tag */\n",
       "\n",
       "#sk-container-id-1 a.estimator_doc_link {\n",
       "  float: right;\n",
       "  font-size: 1rem;\n",
       "  line-height: 1em;\n",
       "  font-family: monospace;\n",
       "  background-color: var(--sklearn-color-background);\n",
       "  border-radius: 1rem;\n",
       "  height: 1rem;\n",
       "  width: 1rem;\n",
       "  text-decoration: none;\n",
       "  /* unfitted */\n",
       "  color: var(--sklearn-color-unfitted-level-1);\n",
       "  border: var(--sklearn-color-unfitted-level-1) 1pt solid;\n",
       "}\n",
       "\n",
       "#sk-container-id-1 a.estimator_doc_link.fitted {\n",
       "  /* fitted */\n",
       "  border: var(--sklearn-color-fitted-level-1) 1pt solid;\n",
       "  color: var(--sklearn-color-fitted-level-1);\n",
       "}\n",
       "\n",
       "/* On hover */\n",
       "#sk-container-id-1 a.estimator_doc_link:hover {\n",
       "  /* unfitted */\n",
       "  background-color: var(--sklearn-color-unfitted-level-3);\n",
       "  color: var(--sklearn-color-background);\n",
       "  text-decoration: none;\n",
       "}\n",
       "\n",
       "#sk-container-id-1 a.estimator_doc_link.fitted:hover {\n",
       "  /* fitted */\n",
       "  background-color: var(--sklearn-color-fitted-level-3);\n",
       "}\n",
       "</style><div id=\"sk-container-id-1\" class=\"sk-top-container\"><div class=\"sk-text-repr-fallback\"><pre>DecisionTreeClassifier()</pre><b>In a Jupyter environment, please rerun this cell to show the HTML representation or trust the notebook. <br />On GitHub, the HTML representation is unable to render, please try loading this page with nbviewer.org.</b></div><div class=\"sk-container\" hidden><div class=\"sk-item\"><div class=\"sk-estimator fitted sk-toggleable\"><input class=\"sk-toggleable__control sk-hidden--visually\" id=\"sk-estimator-id-1\" type=\"checkbox\" checked><label for=\"sk-estimator-id-1\" class=\"sk-toggleable__label fitted sk-toggleable__label-arrow fitted\">&nbsp;&nbsp;DecisionTreeClassifier<a class=\"sk-estimator-doc-link fitted\" rel=\"noreferrer\" target=\"_blank\" href=\"https://scikit-learn.org/1.4/modules/generated/sklearn.tree.DecisionTreeClassifier.html\">?<span>Documentation for DecisionTreeClassifier</span></a><span class=\"sk-estimator-doc-link fitted\">i<span>Fitted</span></span></label><div class=\"sk-toggleable__content fitted\"><pre>DecisionTreeClassifier()</pre></div> </div></div></div></div>"
      ],
      "text/plain": [
       "DecisionTreeClassifier()"
      ]
     },
     "execution_count": 10,
     "metadata": {},
     "output_type": "execute_result"
    }
   ],
   "source": [
    "model = DecisionTreeClassifier()\n",
    "model.fit(X_train, Y_train)"
   ]
  },
  {
   "cell_type": "code",
   "execution_count": 11,
   "id": "cd2383f7",
   "metadata": {},
   "outputs": [],
   "source": [
    "# 5. 평가 수행 (학습능력 / 일반화능력)\n",
    "# 기존에 사용한 X 데이터를 이용해 예측값을 계산\n",
    "Y_train_pred = model.predict(X_train)\n",
    "Y_test_pred = model.predict(X_test)"
   ]
  },
  {
   "cell_type": "code",
   "execution_count": 12,
   "id": "c7857664",
   "metadata": {},
   "outputs": [],
   "source": [
    "from sklearn.metrics import accuracy_score #정확도 평가 지표"
   ]
  },
  {
   "cell_type": "code",
   "execution_count": 13,
   "id": "0bcff2fb",
   "metadata": {},
   "outputs": [
    {
     "data": {
      "text/plain": [
       "0.9876660652780056"
      ]
     },
     "execution_count": 13,
     "metadata": {},
     "output_type": "execute_result"
    }
   ],
   "source": [
    "#학습 능력 평가\n",
    "accuracy_score(Y_train, Y_train_pred)"
   ]
  },
  {
   "cell_type": "code",
   "execution_count": 14,
   "id": "02df584e",
   "metadata": {},
   "outputs": [
    {
     "data": {
      "text/plain": [
       "0.9850423145050187"
      ]
     },
     "execution_count": 14,
     "metadata": {},
     "output_type": "execute_result"
    }
   ],
   "source": [
    "#일반화 능력 평가\n",
    "accuracy_score(Y_test, Y_test_pred)"
   ]
  },
  {
   "cell_type": "code",
   "execution_count": 15,
   "id": "c32a4045",
   "metadata": {},
   "outputs": [
    {
     "name": "stdout",
     "output_type": "stream",
     "text": [
      "고객 연령을 입력하시오 : 28\n",
      "고객 신용 등급을 입력하시오 : A\n",
      "계약할 월 랜탈비용을 입력하시오 : 30\n",
      "계약할 기간을 입력하시오 : 2\n"
     ]
    }
   ],
   "source": [
    "# 6. 적용\n",
    "x1 = input('고객 연령을 입력하시오 : ')\n",
    "x2 = input('고객 신용 등급을 입력하시오 : ')\n",
    "x3 = input('계약할 월 랜탈비용을 입력하시오 : ')\n",
    "x4 = input('계약할 기간을 입력하시오 : ')"
   ]
  },
  {
   "cell_type": "code",
   "execution_count": 16,
   "id": "f6ca4452",
   "metadata": {},
   "outputs": [],
   "source": [
    "input_data = pd.DataFrame([[x1,x2,x3,x4]], columns=X.columns)"
   ]
  },
  {
   "cell_type": "code",
   "execution_count": 17,
   "id": "deeaa0b6",
   "metadata": {
    "collapsed": true
   },
   "outputs": [
    {
     "ename": "ValueError",
     "evalue": "could not convert string to float: 'A'",
     "output_type": "error",
     "traceback": [
      "\u001b[0;31m---------------------------------------------------------------------------\u001b[0m",
      "\u001b[0;31mValueError\u001b[0m                                Traceback (most recent call last)",
      "\u001b[0;32m/var/folders/q9/51yx3nc91mq6crjc81y6g1wm0000gn/T/ipykernel_25108/1728443606.py\u001b[0m in \u001b[0;36m?\u001b[0;34m()\u001b[0m\n\u001b[0;32m----> 1\u001b[0;31m \u001b[0mmodel\u001b[0m\u001b[0;34m.\u001b[0m\u001b[0mpredict\u001b[0m\u001b[0;34m(\u001b[0m\u001b[0minput_data\u001b[0m\u001b[0;34m)\u001b[0m \u001b[0;31m# 해약 : 1 / 정상 : 0\u001b[0m\u001b[0;34m\u001b[0m\u001b[0;34m\u001b[0m\u001b[0m\n\u001b[0m",
      "\u001b[0;32m~/anaconda3/lib/python3.11/site-packages/sklearn/tree/_classes.py\u001b[0m in \u001b[0;36m?\u001b[0;34m(self, X, check_input)\u001b[0m\n\u001b[1;32m    525\u001b[0m         \u001b[0my\u001b[0m \u001b[0;34m:\u001b[0m \u001b[0marray\u001b[0m\u001b[0;34m-\u001b[0m\u001b[0mlike\u001b[0m \u001b[0mof\u001b[0m \u001b[0mshape\u001b[0m \u001b[0;34m(\u001b[0m\u001b[0mn_samples\u001b[0m\u001b[0;34m,\u001b[0m\u001b[0;34m)\u001b[0m \u001b[0;32mor\u001b[0m \u001b[0;34m(\u001b[0m\u001b[0mn_samples\u001b[0m\u001b[0;34m,\u001b[0m \u001b[0mn_outputs\u001b[0m\u001b[0;34m)\u001b[0m\u001b[0;34m\u001b[0m\u001b[0;34m\u001b[0m\u001b[0m\n\u001b[1;32m    526\u001b[0m             \u001b[0mThe\u001b[0m \u001b[0mpredicted\u001b[0m \u001b[0mclasses\u001b[0m\u001b[0;34m,\u001b[0m \u001b[0;32mor\u001b[0m \u001b[0mthe\u001b[0m \u001b[0mpredict\u001b[0m \u001b[0mvalues\u001b[0m\u001b[0;34m.\u001b[0m\u001b[0;34m\u001b[0m\u001b[0;34m\u001b[0m\u001b[0m\n\u001b[1;32m    527\u001b[0m         \"\"\"\n\u001b[1;32m    528\u001b[0m         \u001b[0mcheck_is_fitted\u001b[0m\u001b[0;34m(\u001b[0m\u001b[0mself\u001b[0m\u001b[0;34m)\u001b[0m\u001b[0;34m\u001b[0m\u001b[0;34m\u001b[0m\u001b[0m\n\u001b[0;32m--> 529\u001b[0;31m         \u001b[0mX\u001b[0m \u001b[0;34m=\u001b[0m \u001b[0mself\u001b[0m\u001b[0;34m.\u001b[0m\u001b[0m_validate_X_predict\u001b[0m\u001b[0;34m(\u001b[0m\u001b[0mX\u001b[0m\u001b[0;34m,\u001b[0m \u001b[0mcheck_input\u001b[0m\u001b[0;34m)\u001b[0m\u001b[0;34m\u001b[0m\u001b[0;34m\u001b[0m\u001b[0m\n\u001b[0m\u001b[1;32m    530\u001b[0m         \u001b[0mproba\u001b[0m \u001b[0;34m=\u001b[0m \u001b[0mself\u001b[0m\u001b[0;34m.\u001b[0m\u001b[0mtree_\u001b[0m\u001b[0;34m.\u001b[0m\u001b[0mpredict\u001b[0m\u001b[0;34m(\u001b[0m\u001b[0mX\u001b[0m\u001b[0;34m)\u001b[0m\u001b[0;34m\u001b[0m\u001b[0;34m\u001b[0m\u001b[0m\n\u001b[1;32m    531\u001b[0m         \u001b[0mn_samples\u001b[0m \u001b[0;34m=\u001b[0m \u001b[0mX\u001b[0m\u001b[0;34m.\u001b[0m\u001b[0mshape\u001b[0m\u001b[0;34m[\u001b[0m\u001b[0;36m0\u001b[0m\u001b[0;34m]\u001b[0m\u001b[0;34m\u001b[0m\u001b[0;34m\u001b[0m\u001b[0m\n\u001b[1;32m    532\u001b[0m \u001b[0;34m\u001b[0m\u001b[0m\n",
      "\u001b[0;32m~/anaconda3/lib/python3.11/site-packages/sklearn/tree/_classes.py\u001b[0m in \u001b[0;36m?\u001b[0;34m(self, X, check_input)\u001b[0m\n\u001b[1;32m    485\u001b[0m             \u001b[0;32mif\u001b[0m \u001b[0mself\u001b[0m\u001b[0;34m.\u001b[0m\u001b[0m_support_missing_values\u001b[0m\u001b[0;34m(\u001b[0m\u001b[0mX\u001b[0m\u001b[0;34m)\u001b[0m\u001b[0;34m:\u001b[0m\u001b[0;34m\u001b[0m\u001b[0;34m\u001b[0m\u001b[0m\n\u001b[1;32m    486\u001b[0m                 \u001b[0mforce_all_finite\u001b[0m \u001b[0;34m=\u001b[0m \u001b[0;34m\"allow-nan\"\u001b[0m\u001b[0;34m\u001b[0m\u001b[0;34m\u001b[0m\u001b[0m\n\u001b[1;32m    487\u001b[0m             \u001b[0;32melse\u001b[0m\u001b[0;34m:\u001b[0m\u001b[0;34m\u001b[0m\u001b[0;34m\u001b[0m\u001b[0m\n\u001b[1;32m    488\u001b[0m                 \u001b[0mforce_all_finite\u001b[0m \u001b[0;34m=\u001b[0m \u001b[0;32mTrue\u001b[0m\u001b[0;34m\u001b[0m\u001b[0;34m\u001b[0m\u001b[0m\n\u001b[0;32m--> 489\u001b[0;31m             X = self._validate_data(\n\u001b[0m\u001b[1;32m    490\u001b[0m                 \u001b[0mX\u001b[0m\u001b[0;34m,\u001b[0m\u001b[0;34m\u001b[0m\u001b[0;34m\u001b[0m\u001b[0m\n\u001b[1;32m    491\u001b[0m                 \u001b[0mdtype\u001b[0m\u001b[0;34m=\u001b[0m\u001b[0mDTYPE\u001b[0m\u001b[0;34m,\u001b[0m\u001b[0;34m\u001b[0m\u001b[0;34m\u001b[0m\u001b[0m\n\u001b[1;32m    492\u001b[0m                 \u001b[0maccept_sparse\u001b[0m\u001b[0;34m=\u001b[0m\u001b[0;34m\"csr\"\u001b[0m\u001b[0;34m,\u001b[0m\u001b[0;34m\u001b[0m\u001b[0;34m\u001b[0m\u001b[0m\n",
      "\u001b[0;32m~/anaconda3/lib/python3.11/site-packages/sklearn/base.py\u001b[0m in \u001b[0;36m?\u001b[0;34m(self, X, y, reset, validate_separately, cast_to_ndarray, **check_params)\u001b[0m\n\u001b[1;32m    629\u001b[0m                 \u001b[0mout\u001b[0m \u001b[0;34m=\u001b[0m \u001b[0my\u001b[0m\u001b[0;34m\u001b[0m\u001b[0;34m\u001b[0m\u001b[0m\n\u001b[1;32m    630\u001b[0m             \u001b[0;32melse\u001b[0m\u001b[0;34m:\u001b[0m\u001b[0;34m\u001b[0m\u001b[0;34m\u001b[0m\u001b[0m\n\u001b[1;32m    631\u001b[0m                 \u001b[0mout\u001b[0m \u001b[0;34m=\u001b[0m \u001b[0mX\u001b[0m\u001b[0;34m,\u001b[0m \u001b[0my\u001b[0m\u001b[0;34m\u001b[0m\u001b[0;34m\u001b[0m\u001b[0m\n\u001b[1;32m    632\u001b[0m         \u001b[0;32melif\u001b[0m \u001b[0;32mnot\u001b[0m \u001b[0mno_val_X\u001b[0m \u001b[0;32mand\u001b[0m \u001b[0mno_val_y\u001b[0m\u001b[0;34m:\u001b[0m\u001b[0;34m\u001b[0m\u001b[0;34m\u001b[0m\u001b[0m\n\u001b[0;32m--> 633\u001b[0;31m             \u001b[0mout\u001b[0m \u001b[0;34m=\u001b[0m \u001b[0mcheck_array\u001b[0m\u001b[0;34m(\u001b[0m\u001b[0mX\u001b[0m\u001b[0;34m,\u001b[0m \u001b[0minput_name\u001b[0m\u001b[0;34m=\u001b[0m\u001b[0;34m\"X\"\u001b[0m\u001b[0;34m,\u001b[0m \u001b[0;34m**\u001b[0m\u001b[0mcheck_params\u001b[0m\u001b[0;34m)\u001b[0m\u001b[0;34m\u001b[0m\u001b[0;34m\u001b[0m\u001b[0m\n\u001b[0m\u001b[1;32m    634\u001b[0m         \u001b[0;32melif\u001b[0m \u001b[0mno_val_X\u001b[0m \u001b[0;32mand\u001b[0m \u001b[0;32mnot\u001b[0m \u001b[0mno_val_y\u001b[0m\u001b[0;34m:\u001b[0m\u001b[0;34m\u001b[0m\u001b[0;34m\u001b[0m\u001b[0m\n\u001b[1;32m    635\u001b[0m             \u001b[0mout\u001b[0m \u001b[0;34m=\u001b[0m \u001b[0m_check_y\u001b[0m\u001b[0;34m(\u001b[0m\u001b[0my\u001b[0m\u001b[0;34m,\u001b[0m \u001b[0;34m**\u001b[0m\u001b[0mcheck_params\u001b[0m\u001b[0;34m)\u001b[0m\u001b[0;34m\u001b[0m\u001b[0;34m\u001b[0m\u001b[0m\n\u001b[1;32m    636\u001b[0m         \u001b[0;32melse\u001b[0m\u001b[0;34m:\u001b[0m\u001b[0;34m\u001b[0m\u001b[0;34m\u001b[0m\u001b[0m\n",
      "\u001b[0;32m~/anaconda3/lib/python3.11/site-packages/sklearn/utils/validation.py\u001b[0m in \u001b[0;36m?\u001b[0;34m(array, accept_sparse, accept_large_sparse, dtype, order, copy, force_all_finite, ensure_2d, allow_nd, ensure_min_samples, ensure_min_features, estimator, input_name)\u001b[0m\n\u001b[1;32m    994\u001b[0m                         )\n\u001b[1;32m    995\u001b[0m                     \u001b[0marray\u001b[0m \u001b[0;34m=\u001b[0m \u001b[0mxp\u001b[0m\u001b[0;34m.\u001b[0m\u001b[0mastype\u001b[0m\u001b[0;34m(\u001b[0m\u001b[0marray\u001b[0m\u001b[0;34m,\u001b[0m \u001b[0mdtype\u001b[0m\u001b[0;34m,\u001b[0m \u001b[0mcopy\u001b[0m\u001b[0;34m=\u001b[0m\u001b[0;32mFalse\u001b[0m\u001b[0;34m)\u001b[0m\u001b[0;34m\u001b[0m\u001b[0;34m\u001b[0m\u001b[0m\n\u001b[1;32m    996\u001b[0m                 \u001b[0;32melse\u001b[0m\u001b[0;34m:\u001b[0m\u001b[0;34m\u001b[0m\u001b[0;34m\u001b[0m\u001b[0m\n\u001b[1;32m    997\u001b[0m                     \u001b[0marray\u001b[0m \u001b[0;34m=\u001b[0m \u001b[0m_asarray_with_order\u001b[0m\u001b[0;34m(\u001b[0m\u001b[0marray\u001b[0m\u001b[0;34m,\u001b[0m \u001b[0morder\u001b[0m\u001b[0;34m=\u001b[0m\u001b[0morder\u001b[0m\u001b[0;34m,\u001b[0m \u001b[0mdtype\u001b[0m\u001b[0;34m=\u001b[0m\u001b[0mdtype\u001b[0m\u001b[0;34m,\u001b[0m \u001b[0mxp\u001b[0m\u001b[0;34m=\u001b[0m\u001b[0mxp\u001b[0m\u001b[0;34m)\u001b[0m\u001b[0;34m\u001b[0m\u001b[0;34m\u001b[0m\u001b[0m\n\u001b[0;32m--> 998\u001b[0;31m             \u001b[0;32mexcept\u001b[0m \u001b[0mComplexWarning\u001b[0m \u001b[0;32mas\u001b[0m \u001b[0mcomplex_warning\u001b[0m\u001b[0;34m:\u001b[0m\u001b[0;34m\u001b[0m\u001b[0;34m\u001b[0m\u001b[0m\n\u001b[0m\u001b[1;32m    999\u001b[0m                 raise ValueError(\n\u001b[1;32m   1000\u001b[0m                     \u001b[0;34m\"Complex data not supported\\n{}\\n\"\u001b[0m\u001b[0;34m.\u001b[0m\u001b[0mformat\u001b[0m\u001b[0;34m(\u001b[0m\u001b[0marray\u001b[0m\u001b[0;34m)\u001b[0m\u001b[0;34m\u001b[0m\u001b[0;34m\u001b[0m\u001b[0m\n\u001b[1;32m   1001\u001b[0m                 ) from complex_warning\n",
      "\u001b[0;32m~/anaconda3/lib/python3.11/site-packages/sklearn/utils/_array_api.py\u001b[0m in \u001b[0;36m?\u001b[0;34m(array, dtype, order, copy, xp)\u001b[0m\n\u001b[1;32m    517\u001b[0m         \u001b[0;31m# Use NumPy API to support order\u001b[0m\u001b[0;34m\u001b[0m\u001b[0;34m\u001b[0m\u001b[0m\n\u001b[1;32m    518\u001b[0m         \u001b[0;32mif\u001b[0m \u001b[0mcopy\u001b[0m \u001b[0;32mis\u001b[0m \u001b[0;32mTrue\u001b[0m\u001b[0;34m:\u001b[0m\u001b[0;34m\u001b[0m\u001b[0;34m\u001b[0m\u001b[0m\n\u001b[1;32m    519\u001b[0m             \u001b[0marray\u001b[0m \u001b[0;34m=\u001b[0m \u001b[0mnumpy\u001b[0m\u001b[0;34m.\u001b[0m\u001b[0marray\u001b[0m\u001b[0;34m(\u001b[0m\u001b[0marray\u001b[0m\u001b[0;34m,\u001b[0m \u001b[0morder\u001b[0m\u001b[0;34m=\u001b[0m\u001b[0morder\u001b[0m\u001b[0;34m,\u001b[0m \u001b[0mdtype\u001b[0m\u001b[0;34m=\u001b[0m\u001b[0mdtype\u001b[0m\u001b[0;34m)\u001b[0m\u001b[0;34m\u001b[0m\u001b[0;34m\u001b[0m\u001b[0m\n\u001b[1;32m    520\u001b[0m         \u001b[0;32melse\u001b[0m\u001b[0;34m:\u001b[0m\u001b[0;34m\u001b[0m\u001b[0;34m\u001b[0m\u001b[0m\n\u001b[0;32m--> 521\u001b[0;31m             \u001b[0marray\u001b[0m \u001b[0;34m=\u001b[0m \u001b[0mnumpy\u001b[0m\u001b[0;34m.\u001b[0m\u001b[0masarray\u001b[0m\u001b[0;34m(\u001b[0m\u001b[0marray\u001b[0m\u001b[0;34m,\u001b[0m \u001b[0morder\u001b[0m\u001b[0;34m=\u001b[0m\u001b[0morder\u001b[0m\u001b[0;34m,\u001b[0m \u001b[0mdtype\u001b[0m\u001b[0;34m=\u001b[0m\u001b[0mdtype\u001b[0m\u001b[0;34m)\u001b[0m\u001b[0;34m\u001b[0m\u001b[0;34m\u001b[0m\u001b[0m\n\u001b[0m\u001b[1;32m    522\u001b[0m \u001b[0;34m\u001b[0m\u001b[0m\n\u001b[1;32m    523\u001b[0m         \u001b[0;31m# At this point array is a NumPy ndarray. We convert it to an array\u001b[0m\u001b[0;34m\u001b[0m\u001b[0;34m\u001b[0m\u001b[0m\n\u001b[1;32m    524\u001b[0m         \u001b[0;31m# container that is consistent with the input's namespace.\u001b[0m\u001b[0;34m\u001b[0m\u001b[0;34m\u001b[0m\u001b[0m\n",
      "\u001b[0;32m~/anaconda3/lib/python3.11/site-packages/pandas/core/generic.py\u001b[0m in \u001b[0;36m?\u001b[0;34m(self, dtype)\u001b[0m\n\u001b[1;32m   1996\u001b[0m     \u001b[0;32mdef\u001b[0m \u001b[0m__array__\u001b[0m\u001b[0;34m(\u001b[0m\u001b[0mself\u001b[0m\u001b[0;34m,\u001b[0m \u001b[0mdtype\u001b[0m\u001b[0;34m:\u001b[0m \u001b[0mnpt\u001b[0m\u001b[0;34m.\u001b[0m\u001b[0mDTypeLike\u001b[0m \u001b[0;34m|\u001b[0m \u001b[0;32mNone\u001b[0m \u001b[0;34m=\u001b[0m \u001b[0;32mNone\u001b[0m\u001b[0;34m)\u001b[0m \u001b[0;34m->\u001b[0m \u001b[0mnp\u001b[0m\u001b[0;34m.\u001b[0m\u001b[0mndarray\u001b[0m\u001b[0;34m:\u001b[0m\u001b[0;34m\u001b[0m\u001b[0;34m\u001b[0m\u001b[0m\n\u001b[1;32m   1997\u001b[0m         \u001b[0mvalues\u001b[0m \u001b[0;34m=\u001b[0m \u001b[0mself\u001b[0m\u001b[0;34m.\u001b[0m\u001b[0m_values\u001b[0m\u001b[0;34m\u001b[0m\u001b[0;34m\u001b[0m\u001b[0m\n\u001b[0;32m-> 1998\u001b[0;31m         \u001b[0marr\u001b[0m \u001b[0;34m=\u001b[0m \u001b[0mnp\u001b[0m\u001b[0;34m.\u001b[0m\u001b[0masarray\u001b[0m\u001b[0;34m(\u001b[0m\u001b[0mvalues\u001b[0m\u001b[0;34m,\u001b[0m \u001b[0mdtype\u001b[0m\u001b[0;34m=\u001b[0m\u001b[0mdtype\u001b[0m\u001b[0;34m)\u001b[0m\u001b[0;34m\u001b[0m\u001b[0;34m\u001b[0m\u001b[0m\n\u001b[0m\u001b[1;32m   1999\u001b[0m         if (\n\u001b[1;32m   2000\u001b[0m             \u001b[0mastype_is_view\u001b[0m\u001b[0;34m(\u001b[0m\u001b[0mvalues\u001b[0m\u001b[0;34m.\u001b[0m\u001b[0mdtype\u001b[0m\u001b[0;34m,\u001b[0m \u001b[0marr\u001b[0m\u001b[0;34m.\u001b[0m\u001b[0mdtype\u001b[0m\u001b[0;34m)\u001b[0m\u001b[0;34m\u001b[0m\u001b[0;34m\u001b[0m\u001b[0m\n\u001b[1;32m   2001\u001b[0m             \u001b[0;32mand\u001b[0m \u001b[0musing_copy_on_write\u001b[0m\u001b[0;34m(\u001b[0m\u001b[0;34m)\u001b[0m\u001b[0;34m\u001b[0m\u001b[0;34m\u001b[0m\u001b[0m\n",
      "\u001b[0;31mValueError\u001b[0m: could not convert string to float: 'A'"
     ]
    }
   ],
   "source": [
    "model.predict(input_data) # 해약 : 1 / 정상 : 0"
   ]
  },
  {
   "cell_type": "code",
   "execution_count": 18,
   "id": "386a001d",
   "metadata": {},
   "outputs": [],
   "source": [
    "# 생성된 모델을 파일 형태로 저장\n",
    "import pickle # 파이썬에 있는 객체나 변수를 파일형태로 저장"
   ]
  },
  {
   "cell_type": "code",
   "execution_count": null,
   "id": "6ef4ff7d",
   "metadata": {},
   "outputs": [],
   "source": [
    "pickle.dump(model, open('model.sav', 'wb'))"
   ]
  },
  {
   "cell_type": "markdown",
   "id": "142e0cc0",
   "metadata": {},
   "source": [
    "# 모델평가\n",
    "\n",
    "- 분류모델에서의 평가\n",
    "- **정확도 (Accuracy)** = 예측 결과가 동일한 데이터의 수 / 전체 예측 데이터의 수\n",
    "    - 클래스(나누고자 하는 항목)의 비율이 균형을 이룰 때 주로 사용\n",
    "    - 모든 클래스가 동등한 중요도를 가지며, 비율도 같을 때\n",
    "    - 단순 이진분류에서 데이터의 비율이 깨져있는 경우 (Imbalanced Data) 모델의 성능이 잘못 측정됨\n",
    "- **오차 행렬 (Confusion Matrix)**\n",
    "    - 정상 (Negative)을 정상으로 해약(Positive)을 해약으로 분류하는 데이터의 수를 표로 정리\n",
    "    \n",
    "- **정밀도 (Precision)** : True Positive / (False Positive + True Positive)\n",
    "    - (정확하게 해약으로 분류한 수) / (예측을 해약으로 분류한 수)\n",
    "    - 예측 성능을 더욱 정밀하게 측정하기 위해 사용되는 지표\n",
    "    - False Positive의 개수를 낮추는데에 초점 / ex) 스팸메시지 분류\n",
    "    \n",
    "- **재현율 (Recall)** : True Positive / (False Negative + True Positive)\n",
    "    - (정확하게 해약으로 분류한 수) / (실제 해약인 데이터 수)\n",
    "    - Sensitivity (민감도) / TPR(True Positive Rate)\n",
    "    - 실제 문제가 있는 데이터를 문제가 없다고 잘못 판단할 때 발생하는 이슈를 나타내는 지표\n",
    "    - False Negative를 낮추는 데 초점 / ex) 암진단, 불량여부, 해약여부 ...\n",
    "    \n",
    "- 두 수치가 모두 좋아야 한다."
   ]
  },
  {
   "cell_type": "code",
   "execution_count": 19,
   "id": "8bfc0500",
   "metadata": {},
   "outputs": [],
   "source": [
    "from sklearn.metrics import precision_score, recall_score"
   ]
  },
  {
   "cell_type": "code",
   "execution_count": 20,
   "id": "83d54013",
   "metadata": {},
   "outputs": [
    {
     "name": "stdout",
     "output_type": "stream",
     "text": [
      "학습 데이터의 Precision :  0.9574468085106383\n",
      "검증 데이터의 Precision :  0.08823529411764706\n"
     ]
    }
   ],
   "source": [
    "# 0 / 1 의 이진 분류에서 1값을 Positive로 뒀을 때, 정밀도\n",
    "print('학습 데이터의 Precision : ', precision_score(Y_train, Y_train_pred))\n",
    "print('검증 데이터의 Precision : ', precision_score(Y_test, Y_test_pred))"
   ]
  },
  {
   "cell_type": "code",
   "execution_count": 21,
   "id": "4ce82be5",
   "metadata": {},
   "outputs": [
    {
     "name": "stdout",
     "output_type": "stream",
     "text": [
      "학습 데이터의 Recall :  0.10739856801909307\n",
      "검증 데이터의 Recall :  0.024193548387096774\n"
     ]
    }
   ],
   "source": [
    "print('학습 데이터의 Recall : ', recall_score(Y_train, Y_train_pred))\n",
    "print('검증 데이터의 Recall : ', recall_score(Y_test, Y_test_pred))\n",
    "#비율이 깨진 데이터에서 Recall을 중점으로 보는 실무적 데이터의 경우\n",
    "#Recall 값이 Precision에 비해 현저히 낮게 나오는 경향"
   ]
  },
  {
   "cell_type": "code",
   "execution_count": 22,
   "id": "ef7d3dfe",
   "metadata": {},
   "outputs": [],
   "source": [
    "#분류모델 평가 지표를 모두 확인\n",
    "from sklearn.metrics import classification_report"
   ]
  },
  {
   "cell_type": "code",
   "execution_count": 23,
   "id": "1912b2d2",
   "metadata": {},
   "outputs": [
    {
     "name": "stdout",
     "output_type": "stream",
     "text": [
      "              precision    recall  f1-score   support\n",
      "\n",
      "           0       0.99      1.00      0.99     30066\n",
      "           1       0.96      0.11      0.19       419\n",
      "\n",
      "    accuracy                           0.99     30485\n",
      "   macro avg       0.97      0.55      0.59     30485\n",
      "weighted avg       0.99      0.99      0.98     30485\n",
      "\n"
     ]
    }
   ],
   "source": [
    "print(classification_report(Y_train, Y_train_pred)) #학습"
   ]
  },
  {
   "cell_type": "markdown",
   "id": "3d885d48",
   "metadata": {},
   "source": [
    "- **F1 Score** : 정밀도와 재현율의 결합지표\n",
    "        - 정밀도와 재현율이 모두 중요한 (균형이 필요한 경우에 사용)\n",
    "        - 0 ~ 1"
   ]
  },
  {
   "cell_type": "markdown",
   "id": "d00aa008",
   "metadata": {},
   "source": [
    "# Precision & Recall Trade-off\n",
    "\n",
    "- 비율이 깨진 데이터에 대해서는 Preicision이나 Recall 중 한 쪽이 크면, 다른 한 쪽은 낮은 값으로 계산되는 경향\n",
    "- Threshold : 분류에 있어서 1을 1로 / 0을 0으로 판단할 때 사용되는 임계값"
   ]
  },
  {
   "cell_type": "code",
   "execution_count": 27,
   "id": "54a69067",
   "metadata": {},
   "outputs": [
    {
     "data": {
      "text/html": [
       "<div>\n",
       "<style scoped>\n",
       "    .dataframe tbody tr th:only-of-type {\n",
       "        vertical-align: middle;\n",
       "    }\n",
       "\n",
       "    .dataframe tbody tr th {\n",
       "        vertical-align: top;\n",
       "    }\n",
       "\n",
       "    .dataframe thead th {\n",
       "        text-align: right;\n",
       "    }\n",
       "</style>\n",
       "<table border=\"1\" class=\"dataframe\">\n",
       "  <thead>\n",
       "    <tr style=\"text-align: right;\">\n",
       "      <th></th>\n",
       "      <th>0</th>\n",
       "      <th>1</th>\n",
       "    </tr>\n",
       "  </thead>\n",
       "  <tbody>\n",
       "    <tr>\n",
       "      <th>0</th>\n",
       "      <td>1.000000</td>\n",
       "      <td>0.000000</td>\n",
       "    </tr>\n",
       "    <tr>\n",
       "      <th>1</th>\n",
       "      <td>1.000000</td>\n",
       "      <td>0.000000</td>\n",
       "    </tr>\n",
       "    <tr>\n",
       "      <th>2</th>\n",
       "      <td>1.000000</td>\n",
       "      <td>0.000000</td>\n",
       "    </tr>\n",
       "    <tr>\n",
       "      <th>3</th>\n",
       "      <td>1.000000</td>\n",
       "      <td>0.000000</td>\n",
       "    </tr>\n",
       "    <tr>\n",
       "      <th>4</th>\n",
       "      <td>0.983871</td>\n",
       "      <td>0.016129</td>\n",
       "    </tr>\n",
       "    <tr>\n",
       "      <th>...</th>\n",
       "      <td>...</td>\n",
       "      <td>...</td>\n",
       "    </tr>\n",
       "    <tr>\n",
       "      <th>10157</th>\n",
       "      <td>1.000000</td>\n",
       "      <td>0.000000</td>\n",
       "    </tr>\n",
       "    <tr>\n",
       "      <th>10158</th>\n",
       "      <td>0.600000</td>\n",
       "      <td>0.400000</td>\n",
       "    </tr>\n",
       "    <tr>\n",
       "      <th>10159</th>\n",
       "      <td>1.000000</td>\n",
       "      <td>0.000000</td>\n",
       "    </tr>\n",
       "    <tr>\n",
       "      <th>10160</th>\n",
       "      <td>1.000000</td>\n",
       "      <td>0.000000</td>\n",
       "    </tr>\n",
       "    <tr>\n",
       "      <th>10161</th>\n",
       "      <td>1.000000</td>\n",
       "      <td>0.000000</td>\n",
       "    </tr>\n",
       "  </tbody>\n",
       "</table>\n",
       "<p>10162 rows × 2 columns</p>\n",
       "</div>"
      ],
      "text/plain": [
       "              0         1\n",
       "0      1.000000  0.000000\n",
       "1      1.000000  0.000000\n",
       "2      1.000000  0.000000\n",
       "3      1.000000  0.000000\n",
       "4      0.983871  0.016129\n",
       "...         ...       ...\n",
       "10157  1.000000  0.000000\n",
       "10158  0.600000  0.400000\n",
       "10159  1.000000  0.000000\n",
       "10160  1.000000  0.000000\n",
       "10161  1.000000  0.000000\n",
       "\n",
       "[10162 rows x 2 columns]"
      ]
     },
     "execution_count": 27,
     "metadata": {},
     "output_type": "execute_result"
    }
   ],
   "source": [
    "pd.DataFrame(model.predict_proba(X_test))"
   ]
  },
  {
   "cell_type": "markdown",
   "id": "238e332f",
   "metadata": {},
   "source": [
    "- Threshold는 분류된 각 클래스 별 확률 값 중 더 큰 값으로 (0.5/ 50%) 예측을 실시\n",
    "- Threshold 값을 조정해서, 판단을 다르게 수행\n",
    "- '해약'으로 판단할 확률이 15% (0.15)만 넘어도 \"해약\"으로 예측"
   ]
  },
  {
   "cell_type": "code",
   "execution_count": 24,
   "id": "49fe006e",
   "metadata": {},
   "outputs": [],
   "source": [
    "from sklearn.preprocessing import Binarizer"
   ]
  },
  {
   "cell_type": "code",
   "execution_count": 25,
   "id": "3bf64607",
   "metadata": {},
   "outputs": [
    {
     "data": {
      "text/html": [
       "<style>#sk-container-id-2 {\n",
       "  /* Definition of color scheme common for light and dark mode */\n",
       "  --sklearn-color-text: black;\n",
       "  --sklearn-color-line: gray;\n",
       "  /* Definition of color scheme for unfitted estimators */\n",
       "  --sklearn-color-unfitted-level-0: #fff5e6;\n",
       "  --sklearn-color-unfitted-level-1: #f6e4d2;\n",
       "  --sklearn-color-unfitted-level-2: #ffe0b3;\n",
       "  --sklearn-color-unfitted-level-3: chocolate;\n",
       "  /* Definition of color scheme for fitted estimators */\n",
       "  --sklearn-color-fitted-level-0: #f0f8ff;\n",
       "  --sklearn-color-fitted-level-1: #d4ebff;\n",
       "  --sklearn-color-fitted-level-2: #b3dbfd;\n",
       "  --sklearn-color-fitted-level-3: cornflowerblue;\n",
       "\n",
       "  /* Specific color for light theme */\n",
       "  --sklearn-color-text-on-default-background: var(--sg-text-color, var(--theme-code-foreground, var(--jp-content-font-color1, black)));\n",
       "  --sklearn-color-background: var(--sg-background-color, var(--theme-background, var(--jp-layout-color0, white)));\n",
       "  --sklearn-color-border-box: var(--sg-text-color, var(--theme-code-foreground, var(--jp-content-font-color1, black)));\n",
       "  --sklearn-color-icon: #696969;\n",
       "\n",
       "  @media (prefers-color-scheme: dark) {\n",
       "    /* Redefinition of color scheme for dark theme */\n",
       "    --sklearn-color-text-on-default-background: var(--sg-text-color, var(--theme-code-foreground, var(--jp-content-font-color1, white)));\n",
       "    --sklearn-color-background: var(--sg-background-color, var(--theme-background, var(--jp-layout-color0, #111)));\n",
       "    --sklearn-color-border-box: var(--sg-text-color, var(--theme-code-foreground, var(--jp-content-font-color1, white)));\n",
       "    --sklearn-color-icon: #878787;\n",
       "  }\n",
       "}\n",
       "\n",
       "#sk-container-id-2 {\n",
       "  color: var(--sklearn-color-text);\n",
       "}\n",
       "\n",
       "#sk-container-id-2 pre {\n",
       "  padding: 0;\n",
       "}\n",
       "\n",
       "#sk-container-id-2 input.sk-hidden--visually {\n",
       "  border: 0;\n",
       "  clip: rect(1px 1px 1px 1px);\n",
       "  clip: rect(1px, 1px, 1px, 1px);\n",
       "  height: 1px;\n",
       "  margin: -1px;\n",
       "  overflow: hidden;\n",
       "  padding: 0;\n",
       "  position: absolute;\n",
       "  width: 1px;\n",
       "}\n",
       "\n",
       "#sk-container-id-2 div.sk-dashed-wrapped {\n",
       "  border: 1px dashed var(--sklearn-color-line);\n",
       "  margin: 0 0.4em 0.5em 0.4em;\n",
       "  box-sizing: border-box;\n",
       "  padding-bottom: 0.4em;\n",
       "  background-color: var(--sklearn-color-background);\n",
       "}\n",
       "\n",
       "#sk-container-id-2 div.sk-container {\n",
       "  /* jupyter's `normalize.less` sets `[hidden] { display: none; }`\n",
       "     but bootstrap.min.css set `[hidden] { display: none !important; }`\n",
       "     so we also need the `!important` here to be able to override the\n",
       "     default hidden behavior on the sphinx rendered scikit-learn.org.\n",
       "     See: https://github.com/scikit-learn/scikit-learn/issues/21755 */\n",
       "  display: inline-block !important;\n",
       "  position: relative;\n",
       "}\n",
       "\n",
       "#sk-container-id-2 div.sk-text-repr-fallback {\n",
       "  display: none;\n",
       "}\n",
       "\n",
       "div.sk-parallel-item,\n",
       "div.sk-serial,\n",
       "div.sk-item {\n",
       "  /* draw centered vertical line to link estimators */\n",
       "  background-image: linear-gradient(var(--sklearn-color-text-on-default-background), var(--sklearn-color-text-on-default-background));\n",
       "  background-size: 2px 100%;\n",
       "  background-repeat: no-repeat;\n",
       "  background-position: center center;\n",
       "}\n",
       "\n",
       "/* Parallel-specific style estimator block */\n",
       "\n",
       "#sk-container-id-2 div.sk-parallel-item::after {\n",
       "  content: \"\";\n",
       "  width: 100%;\n",
       "  border-bottom: 2px solid var(--sklearn-color-text-on-default-background);\n",
       "  flex-grow: 1;\n",
       "}\n",
       "\n",
       "#sk-container-id-2 div.sk-parallel {\n",
       "  display: flex;\n",
       "  align-items: stretch;\n",
       "  justify-content: center;\n",
       "  background-color: var(--sklearn-color-background);\n",
       "  position: relative;\n",
       "}\n",
       "\n",
       "#sk-container-id-2 div.sk-parallel-item {\n",
       "  display: flex;\n",
       "  flex-direction: column;\n",
       "}\n",
       "\n",
       "#sk-container-id-2 div.sk-parallel-item:first-child::after {\n",
       "  align-self: flex-end;\n",
       "  width: 50%;\n",
       "}\n",
       "\n",
       "#sk-container-id-2 div.sk-parallel-item:last-child::after {\n",
       "  align-self: flex-start;\n",
       "  width: 50%;\n",
       "}\n",
       "\n",
       "#sk-container-id-2 div.sk-parallel-item:only-child::after {\n",
       "  width: 0;\n",
       "}\n",
       "\n",
       "/* Serial-specific style estimator block */\n",
       "\n",
       "#sk-container-id-2 div.sk-serial {\n",
       "  display: flex;\n",
       "  flex-direction: column;\n",
       "  align-items: center;\n",
       "  background-color: var(--sklearn-color-background);\n",
       "  padding-right: 1em;\n",
       "  padding-left: 1em;\n",
       "}\n",
       "\n",
       "\n",
       "/* Toggleable style: style used for estimator/Pipeline/ColumnTransformer box that is\n",
       "clickable and can be expanded/collapsed.\n",
       "- Pipeline and ColumnTransformer use this feature and define the default style\n",
       "- Estimators will overwrite some part of the style using the `sk-estimator` class\n",
       "*/\n",
       "\n",
       "/* Pipeline and ColumnTransformer style (default) */\n",
       "\n",
       "#sk-container-id-2 div.sk-toggleable {\n",
       "  /* Default theme specific background. It is overwritten whether we have a\n",
       "  specific estimator or a Pipeline/ColumnTransformer */\n",
       "  background-color: var(--sklearn-color-background);\n",
       "}\n",
       "\n",
       "/* Toggleable label */\n",
       "#sk-container-id-2 label.sk-toggleable__label {\n",
       "  cursor: pointer;\n",
       "  display: block;\n",
       "  width: 100%;\n",
       "  margin-bottom: 0;\n",
       "  padding: 0.5em;\n",
       "  box-sizing: border-box;\n",
       "  text-align: center;\n",
       "}\n",
       "\n",
       "#sk-container-id-2 label.sk-toggleable__label-arrow:before {\n",
       "  /* Arrow on the left of the label */\n",
       "  content: \"▸\";\n",
       "  float: left;\n",
       "  margin-right: 0.25em;\n",
       "  color: var(--sklearn-color-icon);\n",
       "}\n",
       "\n",
       "#sk-container-id-2 label.sk-toggleable__label-arrow:hover:before {\n",
       "  color: var(--sklearn-color-text);\n",
       "}\n",
       "\n",
       "/* Toggleable content - dropdown */\n",
       "\n",
       "#sk-container-id-2 div.sk-toggleable__content {\n",
       "  max-height: 0;\n",
       "  max-width: 0;\n",
       "  overflow: hidden;\n",
       "  text-align: left;\n",
       "  /* unfitted */\n",
       "  background-color: var(--sklearn-color-unfitted-level-0);\n",
       "}\n",
       "\n",
       "#sk-container-id-2 div.sk-toggleable__content.fitted {\n",
       "  /* fitted */\n",
       "  background-color: var(--sklearn-color-fitted-level-0);\n",
       "}\n",
       "\n",
       "#sk-container-id-2 div.sk-toggleable__content pre {\n",
       "  margin: 0.2em;\n",
       "  border-radius: 0.25em;\n",
       "  color: var(--sklearn-color-text);\n",
       "  /* unfitted */\n",
       "  background-color: var(--sklearn-color-unfitted-level-0);\n",
       "}\n",
       "\n",
       "#sk-container-id-2 div.sk-toggleable__content.fitted pre {\n",
       "  /* unfitted */\n",
       "  background-color: var(--sklearn-color-fitted-level-0);\n",
       "}\n",
       "\n",
       "#sk-container-id-2 input.sk-toggleable__control:checked~div.sk-toggleable__content {\n",
       "  /* Expand drop-down */\n",
       "  max-height: 200px;\n",
       "  max-width: 100%;\n",
       "  overflow: auto;\n",
       "}\n",
       "\n",
       "#sk-container-id-2 input.sk-toggleable__control:checked~label.sk-toggleable__label-arrow:before {\n",
       "  content: \"▾\";\n",
       "}\n",
       "\n",
       "/* Pipeline/ColumnTransformer-specific style */\n",
       "\n",
       "#sk-container-id-2 div.sk-label input.sk-toggleable__control:checked~label.sk-toggleable__label {\n",
       "  color: var(--sklearn-color-text);\n",
       "  background-color: var(--sklearn-color-unfitted-level-2);\n",
       "}\n",
       "\n",
       "#sk-container-id-2 div.sk-label.fitted input.sk-toggleable__control:checked~label.sk-toggleable__label {\n",
       "  background-color: var(--sklearn-color-fitted-level-2);\n",
       "}\n",
       "\n",
       "/* Estimator-specific style */\n",
       "\n",
       "/* Colorize estimator box */\n",
       "#sk-container-id-2 div.sk-estimator input.sk-toggleable__control:checked~label.sk-toggleable__label {\n",
       "  /* unfitted */\n",
       "  background-color: var(--sklearn-color-unfitted-level-2);\n",
       "}\n",
       "\n",
       "#sk-container-id-2 div.sk-estimator.fitted input.sk-toggleable__control:checked~label.sk-toggleable__label {\n",
       "  /* fitted */\n",
       "  background-color: var(--sklearn-color-fitted-level-2);\n",
       "}\n",
       "\n",
       "#sk-container-id-2 div.sk-label label.sk-toggleable__label,\n",
       "#sk-container-id-2 div.sk-label label {\n",
       "  /* The background is the default theme color */\n",
       "  color: var(--sklearn-color-text-on-default-background);\n",
       "}\n",
       "\n",
       "/* On hover, darken the color of the background */\n",
       "#sk-container-id-2 div.sk-label:hover label.sk-toggleable__label {\n",
       "  color: var(--sklearn-color-text);\n",
       "  background-color: var(--sklearn-color-unfitted-level-2);\n",
       "}\n",
       "\n",
       "/* Label box, darken color on hover, fitted */\n",
       "#sk-container-id-2 div.sk-label.fitted:hover label.sk-toggleable__label.fitted {\n",
       "  color: var(--sklearn-color-text);\n",
       "  background-color: var(--sklearn-color-fitted-level-2);\n",
       "}\n",
       "\n",
       "/* Estimator label */\n",
       "\n",
       "#sk-container-id-2 div.sk-label label {\n",
       "  font-family: monospace;\n",
       "  font-weight: bold;\n",
       "  display: inline-block;\n",
       "  line-height: 1.2em;\n",
       "}\n",
       "\n",
       "#sk-container-id-2 div.sk-label-container {\n",
       "  text-align: center;\n",
       "}\n",
       "\n",
       "/* Estimator-specific */\n",
       "#sk-container-id-2 div.sk-estimator {\n",
       "  font-family: monospace;\n",
       "  border: 1px dotted var(--sklearn-color-border-box);\n",
       "  border-radius: 0.25em;\n",
       "  box-sizing: border-box;\n",
       "  margin-bottom: 0.5em;\n",
       "  /* unfitted */\n",
       "  background-color: var(--sklearn-color-unfitted-level-0);\n",
       "}\n",
       "\n",
       "#sk-container-id-2 div.sk-estimator.fitted {\n",
       "  /* fitted */\n",
       "  background-color: var(--sklearn-color-fitted-level-0);\n",
       "}\n",
       "\n",
       "/* on hover */\n",
       "#sk-container-id-2 div.sk-estimator:hover {\n",
       "  /* unfitted */\n",
       "  background-color: var(--sklearn-color-unfitted-level-2);\n",
       "}\n",
       "\n",
       "#sk-container-id-2 div.sk-estimator.fitted:hover {\n",
       "  /* fitted */\n",
       "  background-color: var(--sklearn-color-fitted-level-2);\n",
       "}\n",
       "\n",
       "/* Specification for estimator info (e.g. \"i\" and \"?\") */\n",
       "\n",
       "/* Common style for \"i\" and \"?\" */\n",
       "\n",
       ".sk-estimator-doc-link,\n",
       "a:link.sk-estimator-doc-link,\n",
       "a:visited.sk-estimator-doc-link {\n",
       "  float: right;\n",
       "  font-size: smaller;\n",
       "  line-height: 1em;\n",
       "  font-family: monospace;\n",
       "  background-color: var(--sklearn-color-background);\n",
       "  border-radius: 1em;\n",
       "  height: 1em;\n",
       "  width: 1em;\n",
       "  text-decoration: none !important;\n",
       "  margin-left: 1ex;\n",
       "  /* unfitted */\n",
       "  border: var(--sklearn-color-unfitted-level-1) 1pt solid;\n",
       "  color: var(--sklearn-color-unfitted-level-1);\n",
       "}\n",
       "\n",
       ".sk-estimator-doc-link.fitted,\n",
       "a:link.sk-estimator-doc-link.fitted,\n",
       "a:visited.sk-estimator-doc-link.fitted {\n",
       "  /* fitted */\n",
       "  border: var(--sklearn-color-fitted-level-1) 1pt solid;\n",
       "  color: var(--sklearn-color-fitted-level-1);\n",
       "}\n",
       "\n",
       "/* On hover */\n",
       "div.sk-estimator:hover .sk-estimator-doc-link:hover,\n",
       ".sk-estimator-doc-link:hover,\n",
       "div.sk-label-container:hover .sk-estimator-doc-link:hover,\n",
       ".sk-estimator-doc-link:hover {\n",
       "  /* unfitted */\n",
       "  background-color: var(--sklearn-color-unfitted-level-3);\n",
       "  color: var(--sklearn-color-background);\n",
       "  text-decoration: none;\n",
       "}\n",
       "\n",
       "div.sk-estimator.fitted:hover .sk-estimator-doc-link.fitted:hover,\n",
       ".sk-estimator-doc-link.fitted:hover,\n",
       "div.sk-label-container:hover .sk-estimator-doc-link.fitted:hover,\n",
       ".sk-estimator-doc-link.fitted:hover {\n",
       "  /* fitted */\n",
       "  background-color: var(--sklearn-color-fitted-level-3);\n",
       "  color: var(--sklearn-color-background);\n",
       "  text-decoration: none;\n",
       "}\n",
       "\n",
       "/* Span, style for the box shown on hovering the info icon */\n",
       ".sk-estimator-doc-link span {\n",
       "  display: none;\n",
       "  z-index: 9999;\n",
       "  position: relative;\n",
       "  font-weight: normal;\n",
       "  right: .2ex;\n",
       "  padding: .5ex;\n",
       "  margin: .5ex;\n",
       "  width: min-content;\n",
       "  min-width: 20ex;\n",
       "  max-width: 50ex;\n",
       "  color: var(--sklearn-color-text);\n",
       "  box-shadow: 2pt 2pt 4pt #999;\n",
       "  /* unfitted */\n",
       "  background: var(--sklearn-color-unfitted-level-0);\n",
       "  border: .5pt solid var(--sklearn-color-unfitted-level-3);\n",
       "}\n",
       "\n",
       ".sk-estimator-doc-link.fitted span {\n",
       "  /* fitted */\n",
       "  background: var(--sklearn-color-fitted-level-0);\n",
       "  border: var(--sklearn-color-fitted-level-3);\n",
       "}\n",
       "\n",
       ".sk-estimator-doc-link:hover span {\n",
       "  display: block;\n",
       "}\n",
       "\n",
       "/* \"?\"-specific style due to the `<a>` HTML tag */\n",
       "\n",
       "#sk-container-id-2 a.estimator_doc_link {\n",
       "  float: right;\n",
       "  font-size: 1rem;\n",
       "  line-height: 1em;\n",
       "  font-family: monospace;\n",
       "  background-color: var(--sklearn-color-background);\n",
       "  border-radius: 1rem;\n",
       "  height: 1rem;\n",
       "  width: 1rem;\n",
       "  text-decoration: none;\n",
       "  /* unfitted */\n",
       "  color: var(--sklearn-color-unfitted-level-1);\n",
       "  border: var(--sklearn-color-unfitted-level-1) 1pt solid;\n",
       "}\n",
       "\n",
       "#sk-container-id-2 a.estimator_doc_link.fitted {\n",
       "  /* fitted */\n",
       "  border: var(--sklearn-color-fitted-level-1) 1pt solid;\n",
       "  color: var(--sklearn-color-fitted-level-1);\n",
       "}\n",
       "\n",
       "/* On hover */\n",
       "#sk-container-id-2 a.estimator_doc_link:hover {\n",
       "  /* unfitted */\n",
       "  background-color: var(--sklearn-color-unfitted-level-3);\n",
       "  color: var(--sklearn-color-background);\n",
       "  text-decoration: none;\n",
       "}\n",
       "\n",
       "#sk-container-id-2 a.estimator_doc_link.fitted:hover {\n",
       "  /* fitted */\n",
       "  background-color: var(--sklearn-color-fitted-level-3);\n",
       "}\n",
       "</style><div id=\"sk-container-id-2\" class=\"sk-top-container\"><div class=\"sk-text-repr-fallback\"><pre>Binarizer(threshold=0.15)</pre><b>In a Jupyter environment, please rerun this cell to show the HTML representation or trust the notebook. <br />On GitHub, the HTML representation is unable to render, please try loading this page with nbviewer.org.</b></div><div class=\"sk-container\" hidden><div class=\"sk-item\"><div class=\"sk-estimator  sk-toggleable\"><input class=\"sk-toggleable__control sk-hidden--visually\" id=\"sk-estimator-id-2\" type=\"checkbox\" checked><label for=\"sk-estimator-id-2\" class=\"sk-toggleable__label  sk-toggleable__label-arrow \">&nbsp;&nbsp;Binarizer<a class=\"sk-estimator-doc-link \" rel=\"noreferrer\" target=\"_blank\" href=\"https://scikit-learn.org/1.4/modules/generated/sklearn.preprocessing.Binarizer.html\">?<span>Documentation for Binarizer</span></a><span class=\"sk-estimator-doc-link \">i<span>Not fitted</span></span></label><div class=\"sk-toggleable__content \"><pre>Binarizer(threshold=0.15)</pre></div> </div></div></div></div>"
      ],
      "text/plain": [
       "Binarizer(threshold=0.15)"
      ]
     },
     "execution_count": 25,
     "metadata": {},
     "output_type": "execute_result"
    }
   ],
   "source": [
    "customer_threshold = 0.15\n",
    "Binarizer(threshold = customer_threshold) # 모델 분류의 분류기준을 변경"
   ]
  },
  {
   "cell_type": "code",
   "execution_count": 26,
   "id": "64890f83",
   "metadata": {},
   "outputs": [],
   "source": [
    "# 해약으로 판단할 확률만 추출\n",
    "predict_proba_col = model.predict_proba(X_test)[:, 1].reshape(-1,1)"
   ]
  },
  {
   "cell_type": "code",
   "execution_count": 28,
   "id": "9e2130ea",
   "metadata": {},
   "outputs": [],
   "source": [
    "# 새로운 임계값을 적용해 예측\n",
    "custom_bin = Binarizer(threshold=customer_threshold).fit(predict_proba_col)\n",
    "Y_test_pred2 = custom_bin.transform(predict_proba_col) #15%를 기준으로 해약을 분류"
   ]
  },
  {
   "cell_type": "code",
   "execution_count": 29,
   "id": "2118b5d3",
   "metadata": {},
   "outputs": [
    {
     "name": "stdout",
     "output_type": "stream",
     "text": [
      "              precision    recall  f1-score   support\n",
      "\n",
      "           0       0.99      0.98      0.98     10038\n",
      "           1       0.09      0.19      0.12       124\n",
      "\n",
      "    accuracy                           0.97     10162\n",
      "   macro avg       0.54      0.58      0.55     10162\n",
      "weighted avg       0.98      0.97      0.97     10162\n",
      "\n"
     ]
    }
   ],
   "source": [
    "print(classification_report(Y_test, Y_test_pred2))"
   ]
  },
  {
   "cell_type": "markdown",
   "id": "9e9ef2d2",
   "metadata": {},
   "source": [
    "- 임계값을 변경하면 실제 F1 score 값이 증가\n",
    "- 판단 기준을 변경한 것이기에, 모델의 성능은 높아졌다고 볼 수 없음"
   ]
  },
  {
   "cell_type": "markdown",
   "id": "1b8bc57e",
   "metadata": {},
   "source": [
    "**Precision과 Recall Curve**\n",
    "- Threshold 값을 Tunning할 때, Recall과 Precision 값이 가장 높은 지점의 Threshold 값을 확인"
   ]
  },
  {
   "cell_type": "code",
   "execution_count": 30,
   "id": "19f01b38",
   "metadata": {},
   "outputs": [],
   "source": [
    "from sklearn.metrics import precision_recall_curve"
   ]
  },
  {
   "cell_type": "code",
   "execution_count": 31,
   "id": "f84fe979",
   "metadata": {},
   "outputs": [],
   "source": [
    "#해약으로 분류할 확률만 추출\n",
    "Y_test_proba1 = model.predict_proba(X_test)[:, 1]"
   ]
  },
  {
   "cell_type": "code",
   "execution_count": 32,
   "id": "8335085b",
   "metadata": {},
   "outputs": [],
   "source": [
    "# 각 Threshold에서 계산된 Recall과 Precision rPtks\n",
    "precision1, recall1, threshold1 = precision_recall_curve(Y_test, Y_test_proba1)"
   ]
  },
  {
   "cell_type": "code",
   "execution_count": 33,
   "id": "578730c8",
   "metadata": {},
   "outputs": [
    {
     "data": {
      "text/plain": [
       "array([0.        , 0.00684932, 0.00714286, 0.00819672, 0.00854701,\n",
       "       0.01204819, 0.0125    , 0.01265823, 0.01282051, 0.01315789,\n",
       "       0.01333333, 0.01369863, 0.01428571, 0.01492537, 0.01526718,\n",
       "       0.01574803, 0.01587302, 0.01612903, 0.01639344, 0.01724138,\n",
       "       0.01818182, 0.01886792, 0.01960784, 0.02      , 0.02083333,\n",
       "       0.0212766 , 0.02173913, 0.02222222, 0.02272727, 0.02325581,\n",
       "       0.02380952, 0.02439024, 0.02469136, 0.025     , 0.02564103,\n",
       "       0.02608696, 0.02631579, 0.02702703, 0.02739726, 0.02777778,\n",
       "       0.02857143, 0.02941176, 0.03125   , 0.03225806, 0.03333333,\n",
       "       0.03448276, 0.03571429, 0.03703704, 0.03846154, 0.04      ,\n",
       "       0.04166667, 0.04255319, 0.04285714, 0.04347826, 0.04545455,\n",
       "       0.04761905, 0.05      , 0.05263158, 0.05555556, 0.05882353,\n",
       "       0.06060606, 0.0625    , 0.06451613, 0.06666667, 0.06818182,\n",
       "       0.07142857, 0.07407407, 0.07692308, 0.08      , 0.08333333,\n",
       "       0.08571429, 0.09090909, 0.0952381 , 0.1       , 0.11111111,\n",
       "       0.125     , 0.13333333, 0.14285714, 0.15384615, 0.16666667,\n",
       "       0.18181818, 0.1875    , 0.2       , 0.22222222, 0.25      ,\n",
       "       0.28571429, 0.3       , 0.33333333, 0.375     , 0.4       ,\n",
       "       0.42857143, 0.5       , 0.66666667, 1.        ])"
      ]
     },
     "execution_count": 33,
     "metadata": {},
     "output_type": "execute_result"
    }
   ],
   "source": [
    "threshold1"
   ]
  },
  {
   "cell_type": "code",
   "execution_count": 34,
   "id": "bcb5fe41",
   "metadata": {},
   "outputs": [],
   "source": [
    "df_cm_curve = pd.DataFrame()\n",
    "df_cm_curve['threshold'] = threshold1\n",
    "df_cm_curve['precision'] = precision1[:-1]\n",
    "df_cm_curve['recall']= recall1[:-1]"
   ]
  },
  {
   "cell_type": "code",
   "execution_count": 35,
   "id": "2d1a1bbc",
   "metadata": {},
   "outputs": [],
   "source": [
    "# 시각화를 쉽게 하기 위해 데이터 프레임을 재구조화\n",
    "p1 = df_cm_curve.melt(id_vars=['threshold'])"
   ]
  },
  {
   "cell_type": "code",
   "execution_count": 37,
   "id": "b5f59e9c",
   "metadata": {},
   "outputs": [
    {
     "data": {
      "application/vnd.plotly.v1+json": {
       "config": {
        "plotlyServerURL": "https://plot.ly"
       },
       "data": [
        {
         "hovertemplate": "variable=precision<br>threshold=%{x}<br>value=%{y}<extra></extra>",
         "legendgroup": "precision",
         "line": {
          "color": "#636efa",
          "dash": "solid"
         },
         "marker": {
          "symbol": "circle"
         },
         "mode": "lines",
         "name": "precision",
         "orientation": "v",
         "showlegend": true,
         "type": "scatter",
         "x": [
          0,
          0.00684931506849315,
          0.007142857142857143,
          0.00819672131147541,
          0.008547008547008548,
          0.012048192771084338,
          0.0125,
          0.012658227848101266,
          0.01282051282051282,
          0.013157894736842105,
          0.013333333333333334,
          0.0136986301369863,
          0.014285714285714285,
          0.014925373134328358,
          0.015267175572519083,
          0.015748031496062992,
          0.015873015873015872,
          0.016129032258064516,
          0.01639344262295082,
          0.017241379310344827,
          0.01818181818181818,
          0.018867924528301886,
          0.0196078431372549,
          0.02,
          0.020833333333333332,
          0.02127659574468085,
          0.021739130434782608,
          0.022222222222222223,
          0.022727272727272728,
          0.023255813953488372,
          0.023809523809523808,
          0.024390243902439025,
          0.024691358024691357,
          0.025,
          0.02564102564102564,
          0.02608695652173913,
          0.02631578947368421,
          0.02702702702702703,
          0.0273972602739726,
          0.027777777777777776,
          0.02857142857142857,
          0.029411764705882353,
          0.03125,
          0.03225806451612903,
          0.03333333333333333,
          0.034482758620689655,
          0.03571428571428571,
          0.037037037037037035,
          0.038461538461538464,
          0.04,
          0.041666666666666664,
          0.0425531914893617,
          0.04285714285714286,
          0.043478260869565216,
          0.045454545454545456,
          0.047619047619047616,
          0.05,
          0.05263157894736842,
          0.05555555555555555,
          0.058823529411764705,
          0.06060606060606061,
          0.0625,
          0.06451612903225806,
          0.06666666666666667,
          0.06818181818181818,
          0.07142857142857142,
          0.07407407407407407,
          0.07692307692307693,
          0.08,
          0.08333333333333333,
          0.08571428571428572,
          0.09090909090909091,
          0.09523809523809523,
          0.1,
          0.1111111111111111,
          0.125,
          0.13333333333333333,
          0.14285714285714285,
          0.15384615384615385,
          0.16666666666666666,
          0.18181818181818182,
          0.1875,
          0.2,
          0.2222222222222222,
          0.25,
          0.2857142857142857,
          0.3,
          0.3333333333333333,
          0.375,
          0.4,
          0.42857142857142855,
          0.5,
          0.6666666666666666,
          1
         ],
         "xaxis": "x",
         "y": [
          0.012202322377484746,
          0.0257529463116543,
          0.0262572318647085,
          0.02642369020501139,
          0.026839426191577972,
          0.027345591702027345,
          0.027698185291308502,
          0.02750965250965251,
          0.02791380999020568,
          0.027764005949429845,
          0.028211586901763223,
          0.028735632183908046,
          0.02925531914893617,
          0.029681597409606044,
          0.030087527352297593,
          0.030795072788353865,
          0.03049482163406214,
          0.03140096618357488,
          0.03117359413202934,
          0.03207184092366902,
          0.032509752925877766,
          0.032215647600262985,
          0.032579787234042555,
          0.03326544467073999,
          0.0337465564738292,
          0.03409881697981907,
          0.03450704225352113,
          0.03535353535353535,
          0.0363232023721275,
          0.03656716417910448,
          0.03684210526315789,
          0.038431372549019606,
          0.03938906752411576,
          0.04059652029826015,
          0.04121110176619008,
          0.04159592529711375,
          0.04104803493449782,
          0.042495479204339964,
          0.042727272727272725,
          0.04368029739776952,
          0.04396632366697849,
          0.04476190476190476,
          0.044921875,
          0.045501551189245086,
          0.047058823529411764,
          0.04736275565123789,
          0.04772234273318872,
          0.04953917050691244,
          0.05076741440377804,
          0.05134474327628362,
          0.05452127659574468,
          0.05718270571827057,
          0.05832147937411095,
          0.05813953488372093,
          0.058823529411764705,
          0.05952380952380952,
          0.06069802731411229,
          0.06116207951070336,
          0.06197654941373534,
          0.06445993031358885,
          0.06715063520871144,
          0.0686456400742115,
          0.07088122605363985,
          0.0694980694980695,
          0.07128712871287128,
          0.07346938775510205,
          0.07809110629067245,
          0.07894736842105263,
          0.07951807228915662,
          0.08148148148148149,
          0.08378378378378379,
          0.0856353591160221,
          0.08955223880597014,
          0.09063444108761329,
          0.09385113268608414,
          0.09210526315789473,
          0.09621993127147767,
          0.0979020979020979,
          0.09055118110236221,
          0.08979591836734693,
          0.09259259259259259,
          0.0947867298578199,
          0.09615384615384616,
          0.10857142857142857,
          0.11515151515151516,
          0.1320754716981132,
          0.1368421052631579,
          0.13978494623655913,
          0.11594202898550725,
          0.1111111111111111,
          0.1206896551724138,
          0.12280701754385964,
          0.08823529411764706,
          0.0967741935483871
         ],
         "yaxis": "y"
        },
        {
         "hovertemplate": "variable=recall<br>threshold=%{x}<br>value=%{y}<extra></extra>",
         "legendgroup": "recall",
         "line": {
          "color": "#EF553B",
          "dash": "solid"
         },
         "marker": {
          "symbol": "circle"
         },
         "mode": "lines",
         "name": "recall",
         "orientation": "v",
         "showlegend": true,
         "type": "scatter",
         "x": [
          0,
          0.00684931506849315,
          0.007142857142857143,
          0.00819672131147541,
          0.008547008547008548,
          0.012048192771084338,
          0.0125,
          0.012658227848101266,
          0.01282051282051282,
          0.013157894736842105,
          0.013333333333333334,
          0.0136986301369863,
          0.014285714285714285,
          0.014925373134328358,
          0.015267175572519083,
          0.015748031496062992,
          0.015873015873015872,
          0.016129032258064516,
          0.01639344262295082,
          0.017241379310344827,
          0.01818181818181818,
          0.018867924528301886,
          0.0196078431372549,
          0.02,
          0.020833333333333332,
          0.02127659574468085,
          0.021739130434782608,
          0.022222222222222223,
          0.022727272727272728,
          0.023255813953488372,
          0.023809523809523808,
          0.024390243902439025,
          0.024691358024691357,
          0.025,
          0.02564102564102564,
          0.02608695652173913,
          0.02631578947368421,
          0.02702702702702703,
          0.0273972602739726,
          0.027777777777777776,
          0.02857142857142857,
          0.029411764705882353,
          0.03125,
          0.03225806451612903,
          0.03333333333333333,
          0.034482758620689655,
          0.03571428571428571,
          0.037037037037037035,
          0.038461538461538464,
          0.04,
          0.041666666666666664,
          0.0425531914893617,
          0.04285714285714286,
          0.043478260869565216,
          0.045454545454545456,
          0.047619047619047616,
          0.05,
          0.05263157894736842,
          0.05555555555555555,
          0.058823529411764705,
          0.06060606060606061,
          0.0625,
          0.06451612903225806,
          0.06666666666666667,
          0.06818181818181818,
          0.07142857142857142,
          0.07407407407407407,
          0.07692307692307693,
          0.08,
          0.08333333333333333,
          0.08571428571428572,
          0.09090909090909091,
          0.09523809523809523,
          0.1,
          0.1111111111111111,
          0.125,
          0.13333333333333333,
          0.14285714285714285,
          0.15384615384615385,
          0.16666666666666666,
          0.18181818181818182,
          0.1875,
          0.2,
          0.2222222222222222,
          0.25,
          0.2857142857142857,
          0.3,
          0.3333333333333333,
          0.375,
          0.4,
          0.42857142857142855,
          0.5,
          0.6666666666666666,
          1
         ],
         "xaxis": "x",
         "y": [
          1,
          0.47580645161290325,
          0.47580645161290325,
          0.46774193548387094,
          0.46774193548387094,
          0.46774193548387094,
          0.46774193548387094,
          0.4596774193548387,
          0.4596774193548387,
          0.45161290322580644,
          0.45161290322580644,
          0.4435483870967742,
          0.4435483870967742,
          0.4435483870967742,
          0.4435483870967742,
          0.4435483870967742,
          0.4274193548387097,
          0.41935483870967744,
          0.4112903225806452,
          0.4032258064516129,
          0.4032258064516129,
          0.3951612903225806,
          0.3951612903225806,
          0.3951612903225806,
          0.3951612903225806,
          0.3951612903225806,
          0.3951612903225806,
          0.3951612903225806,
          0.3951612903225806,
          0.3951612903225806,
          0.3951612903225806,
          0.3951612903225806,
          0.3951612903225806,
          0.3951612903225806,
          0.3951612903225806,
          0.3951612903225806,
          0.3790322580645161,
          0.3790322580645161,
          0.3790322580645161,
          0.3790322580645161,
          0.3790322580645161,
          0.3790322580645161,
          0.3709677419354839,
          0.3548387096774194,
          0.3548387096774194,
          0.3548387096774194,
          0.3548387096774194,
          0.3467741935483871,
          0.3467741935483871,
          0.3387096774193548,
          0.33064516129032256,
          0.33064516129032256,
          0.33064516129032256,
          0.3225806451612903,
          0.3225806451612903,
          0.3225806451612903,
          0.3225806451612903,
          0.3225806451612903,
          0.29838709677419356,
          0.29838709677419356,
          0.29838709677419356,
          0.29838709677419356,
          0.29838709677419356,
          0.2903225806451613,
          0.2903225806451613,
          0.2903225806451613,
          0.2903225806451613,
          0.2903225806451613,
          0.2661290322580645,
          0.2661290322580645,
          0.25,
          0.25,
          0.24193548387096775,
          0.24193548387096775,
          0.23387096774193547,
          0.22580645161290322,
          0.22580645161290322,
          0.22580645161290322,
          0.18548387096774194,
          0.1774193548387097,
          0.16129032258064516,
          0.16129032258064516,
          0.16129032258064516,
          0.1532258064516129,
          0.1532258064516129,
          0.11290322580645161,
          0.10483870967741936,
          0.10483870967741936,
          0.06451612903225806,
          0.056451612903225805,
          0.056451612903225805,
          0.056451612903225805,
          0.024193548387096774,
          0.024193548387096774
         ],
         "yaxis": "y"
        }
       ],
       "layout": {
        "legend": {
         "title": {
          "text": "variable"
         },
         "tracegroupgap": 0
        },
        "margin": {
         "t": 60
        },
        "template": {
         "data": {
          "bar": [
           {
            "error_x": {
             "color": "#2a3f5f"
            },
            "error_y": {
             "color": "#2a3f5f"
            },
            "marker": {
             "line": {
              "color": "#E5ECF6",
              "width": 0.5
             },
             "pattern": {
              "fillmode": "overlay",
              "size": 10,
              "solidity": 0.2
             }
            },
            "type": "bar"
           }
          ],
          "barpolar": [
           {
            "marker": {
             "line": {
              "color": "#E5ECF6",
              "width": 0.5
             },
             "pattern": {
              "fillmode": "overlay",
              "size": 10,
              "solidity": 0.2
             }
            },
            "type": "barpolar"
           }
          ],
          "carpet": [
           {
            "aaxis": {
             "endlinecolor": "#2a3f5f",
             "gridcolor": "white",
             "linecolor": "white",
             "minorgridcolor": "white",
             "startlinecolor": "#2a3f5f"
            },
            "baxis": {
             "endlinecolor": "#2a3f5f",
             "gridcolor": "white",
             "linecolor": "white",
             "minorgridcolor": "white",
             "startlinecolor": "#2a3f5f"
            },
            "type": "carpet"
           }
          ],
          "choropleth": [
           {
            "colorbar": {
             "outlinewidth": 0,
             "ticks": ""
            },
            "type": "choropleth"
           }
          ],
          "contour": [
           {
            "colorbar": {
             "outlinewidth": 0,
             "ticks": ""
            },
            "colorscale": [
             [
              0,
              "#0d0887"
             ],
             [
              0.1111111111111111,
              "#46039f"
             ],
             [
              0.2222222222222222,
              "#7201a8"
             ],
             [
              0.3333333333333333,
              "#9c179e"
             ],
             [
              0.4444444444444444,
              "#bd3786"
             ],
             [
              0.5555555555555556,
              "#d8576b"
             ],
             [
              0.6666666666666666,
              "#ed7953"
             ],
             [
              0.7777777777777778,
              "#fb9f3a"
             ],
             [
              0.8888888888888888,
              "#fdca26"
             ],
             [
              1,
              "#f0f921"
             ]
            ],
            "type": "contour"
           }
          ],
          "contourcarpet": [
           {
            "colorbar": {
             "outlinewidth": 0,
             "ticks": ""
            },
            "type": "contourcarpet"
           }
          ],
          "heatmap": [
           {
            "colorbar": {
             "outlinewidth": 0,
             "ticks": ""
            },
            "colorscale": [
             [
              0,
              "#0d0887"
             ],
             [
              0.1111111111111111,
              "#46039f"
             ],
             [
              0.2222222222222222,
              "#7201a8"
             ],
             [
              0.3333333333333333,
              "#9c179e"
             ],
             [
              0.4444444444444444,
              "#bd3786"
             ],
             [
              0.5555555555555556,
              "#d8576b"
             ],
             [
              0.6666666666666666,
              "#ed7953"
             ],
             [
              0.7777777777777778,
              "#fb9f3a"
             ],
             [
              0.8888888888888888,
              "#fdca26"
             ],
             [
              1,
              "#f0f921"
             ]
            ],
            "type": "heatmap"
           }
          ],
          "heatmapgl": [
           {
            "colorbar": {
             "outlinewidth": 0,
             "ticks": ""
            },
            "colorscale": [
             [
              0,
              "#0d0887"
             ],
             [
              0.1111111111111111,
              "#46039f"
             ],
             [
              0.2222222222222222,
              "#7201a8"
             ],
             [
              0.3333333333333333,
              "#9c179e"
             ],
             [
              0.4444444444444444,
              "#bd3786"
             ],
             [
              0.5555555555555556,
              "#d8576b"
             ],
             [
              0.6666666666666666,
              "#ed7953"
             ],
             [
              0.7777777777777778,
              "#fb9f3a"
             ],
             [
              0.8888888888888888,
              "#fdca26"
             ],
             [
              1,
              "#f0f921"
             ]
            ],
            "type": "heatmapgl"
           }
          ],
          "histogram": [
           {
            "marker": {
             "pattern": {
              "fillmode": "overlay",
              "size": 10,
              "solidity": 0.2
             }
            },
            "type": "histogram"
           }
          ],
          "histogram2d": [
           {
            "colorbar": {
             "outlinewidth": 0,
             "ticks": ""
            },
            "colorscale": [
             [
              0,
              "#0d0887"
             ],
             [
              0.1111111111111111,
              "#46039f"
             ],
             [
              0.2222222222222222,
              "#7201a8"
             ],
             [
              0.3333333333333333,
              "#9c179e"
             ],
             [
              0.4444444444444444,
              "#bd3786"
             ],
             [
              0.5555555555555556,
              "#d8576b"
             ],
             [
              0.6666666666666666,
              "#ed7953"
             ],
             [
              0.7777777777777778,
              "#fb9f3a"
             ],
             [
              0.8888888888888888,
              "#fdca26"
             ],
             [
              1,
              "#f0f921"
             ]
            ],
            "type": "histogram2d"
           }
          ],
          "histogram2dcontour": [
           {
            "colorbar": {
             "outlinewidth": 0,
             "ticks": ""
            },
            "colorscale": [
             [
              0,
              "#0d0887"
             ],
             [
              0.1111111111111111,
              "#46039f"
             ],
             [
              0.2222222222222222,
              "#7201a8"
             ],
             [
              0.3333333333333333,
              "#9c179e"
             ],
             [
              0.4444444444444444,
              "#bd3786"
             ],
             [
              0.5555555555555556,
              "#d8576b"
             ],
             [
              0.6666666666666666,
              "#ed7953"
             ],
             [
              0.7777777777777778,
              "#fb9f3a"
             ],
             [
              0.8888888888888888,
              "#fdca26"
             ],
             [
              1,
              "#f0f921"
             ]
            ],
            "type": "histogram2dcontour"
           }
          ],
          "mesh3d": [
           {
            "colorbar": {
             "outlinewidth": 0,
             "ticks": ""
            },
            "type": "mesh3d"
           }
          ],
          "parcoords": [
           {
            "line": {
             "colorbar": {
              "outlinewidth": 0,
              "ticks": ""
             }
            },
            "type": "parcoords"
           }
          ],
          "pie": [
           {
            "automargin": true,
            "type": "pie"
           }
          ],
          "scatter": [
           {
            "fillpattern": {
             "fillmode": "overlay",
             "size": 10,
             "solidity": 0.2
            },
            "type": "scatter"
           }
          ],
          "scatter3d": [
           {
            "line": {
             "colorbar": {
              "outlinewidth": 0,
              "ticks": ""
             }
            },
            "marker": {
             "colorbar": {
              "outlinewidth": 0,
              "ticks": ""
             }
            },
            "type": "scatter3d"
           }
          ],
          "scattercarpet": [
           {
            "marker": {
             "colorbar": {
              "outlinewidth": 0,
              "ticks": ""
             }
            },
            "type": "scattercarpet"
           }
          ],
          "scattergeo": [
           {
            "marker": {
             "colorbar": {
              "outlinewidth": 0,
              "ticks": ""
             }
            },
            "type": "scattergeo"
           }
          ],
          "scattergl": [
           {
            "marker": {
             "colorbar": {
              "outlinewidth": 0,
              "ticks": ""
             }
            },
            "type": "scattergl"
           }
          ],
          "scattermapbox": [
           {
            "marker": {
             "colorbar": {
              "outlinewidth": 0,
              "ticks": ""
             }
            },
            "type": "scattermapbox"
           }
          ],
          "scatterpolar": [
           {
            "marker": {
             "colorbar": {
              "outlinewidth": 0,
              "ticks": ""
             }
            },
            "type": "scatterpolar"
           }
          ],
          "scatterpolargl": [
           {
            "marker": {
             "colorbar": {
              "outlinewidth": 0,
              "ticks": ""
             }
            },
            "type": "scatterpolargl"
           }
          ],
          "scatterternary": [
           {
            "marker": {
             "colorbar": {
              "outlinewidth": 0,
              "ticks": ""
             }
            },
            "type": "scatterternary"
           }
          ],
          "surface": [
           {
            "colorbar": {
             "outlinewidth": 0,
             "ticks": ""
            },
            "colorscale": [
             [
              0,
              "#0d0887"
             ],
             [
              0.1111111111111111,
              "#46039f"
             ],
             [
              0.2222222222222222,
              "#7201a8"
             ],
             [
              0.3333333333333333,
              "#9c179e"
             ],
             [
              0.4444444444444444,
              "#bd3786"
             ],
             [
              0.5555555555555556,
              "#d8576b"
             ],
             [
              0.6666666666666666,
              "#ed7953"
             ],
             [
              0.7777777777777778,
              "#fb9f3a"
             ],
             [
              0.8888888888888888,
              "#fdca26"
             ],
             [
              1,
              "#f0f921"
             ]
            ],
            "type": "surface"
           }
          ],
          "table": [
           {
            "cells": {
             "fill": {
              "color": "#EBF0F8"
             },
             "line": {
              "color": "white"
             }
            },
            "header": {
             "fill": {
              "color": "#C8D4E3"
             },
             "line": {
              "color": "white"
             }
            },
            "type": "table"
           }
          ]
         },
         "layout": {
          "annotationdefaults": {
           "arrowcolor": "#2a3f5f",
           "arrowhead": 0,
           "arrowwidth": 1
          },
          "autotypenumbers": "strict",
          "coloraxis": {
           "colorbar": {
            "outlinewidth": 0,
            "ticks": ""
           }
          },
          "colorscale": {
           "diverging": [
            [
             0,
             "#8e0152"
            ],
            [
             0.1,
             "#c51b7d"
            ],
            [
             0.2,
             "#de77ae"
            ],
            [
             0.3,
             "#f1b6da"
            ],
            [
             0.4,
             "#fde0ef"
            ],
            [
             0.5,
             "#f7f7f7"
            ],
            [
             0.6,
             "#e6f5d0"
            ],
            [
             0.7,
             "#b8e186"
            ],
            [
             0.8,
             "#7fbc41"
            ],
            [
             0.9,
             "#4d9221"
            ],
            [
             1,
             "#276419"
            ]
           ],
           "sequential": [
            [
             0,
             "#0d0887"
            ],
            [
             0.1111111111111111,
             "#46039f"
            ],
            [
             0.2222222222222222,
             "#7201a8"
            ],
            [
             0.3333333333333333,
             "#9c179e"
            ],
            [
             0.4444444444444444,
             "#bd3786"
            ],
            [
             0.5555555555555556,
             "#d8576b"
            ],
            [
             0.6666666666666666,
             "#ed7953"
            ],
            [
             0.7777777777777778,
             "#fb9f3a"
            ],
            [
             0.8888888888888888,
             "#fdca26"
            ],
            [
             1,
             "#f0f921"
            ]
           ],
           "sequentialminus": [
            [
             0,
             "#0d0887"
            ],
            [
             0.1111111111111111,
             "#46039f"
            ],
            [
             0.2222222222222222,
             "#7201a8"
            ],
            [
             0.3333333333333333,
             "#9c179e"
            ],
            [
             0.4444444444444444,
             "#bd3786"
            ],
            [
             0.5555555555555556,
             "#d8576b"
            ],
            [
             0.6666666666666666,
             "#ed7953"
            ],
            [
             0.7777777777777778,
             "#fb9f3a"
            ],
            [
             0.8888888888888888,
             "#fdca26"
            ],
            [
             1,
             "#f0f921"
            ]
           ]
          },
          "colorway": [
           "#636efa",
           "#EF553B",
           "#00cc96",
           "#ab63fa",
           "#FFA15A",
           "#19d3f3",
           "#FF6692",
           "#B6E880",
           "#FF97FF",
           "#FECB52"
          ],
          "font": {
           "color": "#2a3f5f"
          },
          "geo": {
           "bgcolor": "white",
           "lakecolor": "white",
           "landcolor": "#E5ECF6",
           "showlakes": true,
           "showland": true,
           "subunitcolor": "white"
          },
          "hoverlabel": {
           "align": "left"
          },
          "hovermode": "closest",
          "mapbox": {
           "style": "light"
          },
          "paper_bgcolor": "white",
          "plot_bgcolor": "#E5ECF6",
          "polar": {
           "angularaxis": {
            "gridcolor": "white",
            "linecolor": "white",
            "ticks": ""
           },
           "bgcolor": "#E5ECF6",
           "radialaxis": {
            "gridcolor": "white",
            "linecolor": "white",
            "ticks": ""
           }
          },
          "scene": {
           "xaxis": {
            "backgroundcolor": "#E5ECF6",
            "gridcolor": "white",
            "gridwidth": 2,
            "linecolor": "white",
            "showbackground": true,
            "ticks": "",
            "zerolinecolor": "white"
           },
           "yaxis": {
            "backgroundcolor": "#E5ECF6",
            "gridcolor": "white",
            "gridwidth": 2,
            "linecolor": "white",
            "showbackground": true,
            "ticks": "",
            "zerolinecolor": "white"
           },
           "zaxis": {
            "backgroundcolor": "#E5ECF6",
            "gridcolor": "white",
            "gridwidth": 2,
            "linecolor": "white",
            "showbackground": true,
            "ticks": "",
            "zerolinecolor": "white"
           }
          },
          "shapedefaults": {
           "line": {
            "color": "#2a3f5f"
           }
          },
          "ternary": {
           "aaxis": {
            "gridcolor": "white",
            "linecolor": "white",
            "ticks": ""
           },
           "baxis": {
            "gridcolor": "white",
            "linecolor": "white",
            "ticks": ""
           },
           "bgcolor": "#E5ECF6",
           "caxis": {
            "gridcolor": "white",
            "linecolor": "white",
            "ticks": ""
           }
          },
          "title": {
           "x": 0.05
          },
          "xaxis": {
           "automargin": true,
           "gridcolor": "white",
           "linecolor": "white",
           "ticks": "",
           "title": {
            "standoff": 15
           },
           "zerolinecolor": "white",
           "zerolinewidth": 2
          },
          "yaxis": {
           "automargin": true,
           "gridcolor": "white",
           "linecolor": "white",
           "ticks": "",
           "title": {
            "standoff": 15
           },
           "zerolinecolor": "white",
           "zerolinewidth": 2
          }
         }
        },
        "xaxis": {
         "anchor": "y",
         "domain": [
          0,
          1
         ],
         "title": {
          "text": "threshold"
         }
        },
        "yaxis": {
         "anchor": "x",
         "domain": [
          0,
          1
         ],
         "title": {
          "text": "value"
         }
        }
       }
      },
      "text/html": [
       "<div>                            <div id=\"83e9e6e1-d4f8-4501-8206-7fd1ee73a81e\" class=\"plotly-graph-div\" style=\"height:525px; width:100%;\"></div>            <script type=\"text/javascript\">                require([\"plotly\"], function(Plotly) {                    window.PLOTLYENV=window.PLOTLYENV || {};                                    if (document.getElementById(\"83e9e6e1-d4f8-4501-8206-7fd1ee73a81e\")) {                    Plotly.newPlot(                        \"83e9e6e1-d4f8-4501-8206-7fd1ee73a81e\",                        [{\"hovertemplate\":\"variable=precision\\u003cbr\\u003ethreshold=%{x}\\u003cbr\\u003evalue=%{y}\\u003cextra\\u003e\\u003c\\u002fextra\\u003e\",\"legendgroup\":\"precision\",\"line\":{\"color\":\"#636efa\",\"dash\":\"solid\"},\"marker\":{\"symbol\":\"circle\"},\"mode\":\"lines\",\"name\":\"precision\",\"orientation\":\"v\",\"showlegend\":true,\"x\":[0.0,0.00684931506849315,0.007142857142857143,0.00819672131147541,0.008547008547008548,0.012048192771084338,0.0125,0.012658227848101266,0.01282051282051282,0.013157894736842105,0.013333333333333334,0.0136986301369863,0.014285714285714285,0.014925373134328358,0.015267175572519083,0.015748031496062992,0.015873015873015872,0.016129032258064516,0.01639344262295082,0.017241379310344827,0.01818181818181818,0.018867924528301886,0.0196078431372549,0.02,0.020833333333333332,0.02127659574468085,0.021739130434782608,0.022222222222222223,0.022727272727272728,0.023255813953488372,0.023809523809523808,0.024390243902439025,0.024691358024691357,0.025,0.02564102564102564,0.02608695652173913,0.02631578947368421,0.02702702702702703,0.0273972602739726,0.027777777777777776,0.02857142857142857,0.029411764705882353,0.03125,0.03225806451612903,0.03333333333333333,0.034482758620689655,0.03571428571428571,0.037037037037037035,0.038461538461538464,0.04,0.041666666666666664,0.0425531914893617,0.04285714285714286,0.043478260869565216,0.045454545454545456,0.047619047619047616,0.05,0.05263157894736842,0.05555555555555555,0.058823529411764705,0.06060606060606061,0.0625,0.06451612903225806,0.06666666666666667,0.06818181818181818,0.07142857142857142,0.07407407407407407,0.07692307692307693,0.08,0.08333333333333333,0.08571428571428572,0.09090909090909091,0.09523809523809523,0.1,0.1111111111111111,0.125,0.13333333333333333,0.14285714285714285,0.15384615384615385,0.16666666666666666,0.18181818181818182,0.1875,0.2,0.2222222222222222,0.25,0.2857142857142857,0.3,0.3333333333333333,0.375,0.4,0.42857142857142855,0.5,0.6666666666666666,1.0],\"xaxis\":\"x\",\"y\":[0.012202322377484746,0.0257529463116543,0.0262572318647085,0.02642369020501139,0.026839426191577972,0.027345591702027345,0.027698185291308502,0.02750965250965251,0.02791380999020568,0.027764005949429845,0.028211586901763223,0.028735632183908046,0.02925531914893617,0.029681597409606044,0.030087527352297593,0.030795072788353865,0.03049482163406214,0.03140096618357488,0.03117359413202934,0.03207184092366902,0.032509752925877766,0.032215647600262985,0.032579787234042555,0.03326544467073999,0.0337465564738292,0.03409881697981907,0.03450704225352113,0.03535353535353535,0.0363232023721275,0.03656716417910448,0.03684210526315789,0.038431372549019606,0.03938906752411576,0.04059652029826015,0.04121110176619008,0.04159592529711375,0.04104803493449782,0.042495479204339964,0.042727272727272725,0.04368029739776952,0.04396632366697849,0.04476190476190476,0.044921875,0.045501551189245086,0.047058823529411764,0.04736275565123789,0.04772234273318872,0.04953917050691244,0.05076741440377804,0.05134474327628362,0.05452127659574468,0.05718270571827057,0.05832147937411095,0.05813953488372093,0.058823529411764705,0.05952380952380952,0.06069802731411229,0.06116207951070336,0.06197654941373534,0.06445993031358885,0.06715063520871144,0.0686456400742115,0.07088122605363985,0.0694980694980695,0.07128712871287128,0.07346938775510205,0.07809110629067245,0.07894736842105263,0.07951807228915662,0.08148148148148149,0.08378378378378379,0.0856353591160221,0.08955223880597014,0.09063444108761329,0.09385113268608414,0.09210526315789473,0.09621993127147767,0.0979020979020979,0.09055118110236221,0.08979591836734693,0.09259259259259259,0.0947867298578199,0.09615384615384616,0.10857142857142857,0.11515151515151516,0.1320754716981132,0.1368421052631579,0.13978494623655913,0.11594202898550725,0.1111111111111111,0.1206896551724138,0.12280701754385964,0.08823529411764706,0.0967741935483871],\"yaxis\":\"y\",\"type\":\"scatter\"},{\"hovertemplate\":\"variable=recall\\u003cbr\\u003ethreshold=%{x}\\u003cbr\\u003evalue=%{y}\\u003cextra\\u003e\\u003c\\u002fextra\\u003e\",\"legendgroup\":\"recall\",\"line\":{\"color\":\"#EF553B\",\"dash\":\"solid\"},\"marker\":{\"symbol\":\"circle\"},\"mode\":\"lines\",\"name\":\"recall\",\"orientation\":\"v\",\"showlegend\":true,\"x\":[0.0,0.00684931506849315,0.007142857142857143,0.00819672131147541,0.008547008547008548,0.012048192771084338,0.0125,0.012658227848101266,0.01282051282051282,0.013157894736842105,0.013333333333333334,0.0136986301369863,0.014285714285714285,0.014925373134328358,0.015267175572519083,0.015748031496062992,0.015873015873015872,0.016129032258064516,0.01639344262295082,0.017241379310344827,0.01818181818181818,0.018867924528301886,0.0196078431372549,0.02,0.020833333333333332,0.02127659574468085,0.021739130434782608,0.022222222222222223,0.022727272727272728,0.023255813953488372,0.023809523809523808,0.024390243902439025,0.024691358024691357,0.025,0.02564102564102564,0.02608695652173913,0.02631578947368421,0.02702702702702703,0.0273972602739726,0.027777777777777776,0.02857142857142857,0.029411764705882353,0.03125,0.03225806451612903,0.03333333333333333,0.034482758620689655,0.03571428571428571,0.037037037037037035,0.038461538461538464,0.04,0.041666666666666664,0.0425531914893617,0.04285714285714286,0.043478260869565216,0.045454545454545456,0.047619047619047616,0.05,0.05263157894736842,0.05555555555555555,0.058823529411764705,0.06060606060606061,0.0625,0.06451612903225806,0.06666666666666667,0.06818181818181818,0.07142857142857142,0.07407407407407407,0.07692307692307693,0.08,0.08333333333333333,0.08571428571428572,0.09090909090909091,0.09523809523809523,0.1,0.1111111111111111,0.125,0.13333333333333333,0.14285714285714285,0.15384615384615385,0.16666666666666666,0.18181818181818182,0.1875,0.2,0.2222222222222222,0.25,0.2857142857142857,0.3,0.3333333333333333,0.375,0.4,0.42857142857142855,0.5,0.6666666666666666,1.0],\"xaxis\":\"x\",\"y\":[1.0,0.47580645161290325,0.47580645161290325,0.46774193548387094,0.46774193548387094,0.46774193548387094,0.46774193548387094,0.4596774193548387,0.4596774193548387,0.45161290322580644,0.45161290322580644,0.4435483870967742,0.4435483870967742,0.4435483870967742,0.4435483870967742,0.4435483870967742,0.4274193548387097,0.41935483870967744,0.4112903225806452,0.4032258064516129,0.4032258064516129,0.3951612903225806,0.3951612903225806,0.3951612903225806,0.3951612903225806,0.3951612903225806,0.3951612903225806,0.3951612903225806,0.3951612903225806,0.3951612903225806,0.3951612903225806,0.3951612903225806,0.3951612903225806,0.3951612903225806,0.3951612903225806,0.3951612903225806,0.3790322580645161,0.3790322580645161,0.3790322580645161,0.3790322580645161,0.3790322580645161,0.3790322580645161,0.3709677419354839,0.3548387096774194,0.3548387096774194,0.3548387096774194,0.3548387096774194,0.3467741935483871,0.3467741935483871,0.3387096774193548,0.33064516129032256,0.33064516129032256,0.33064516129032256,0.3225806451612903,0.3225806451612903,0.3225806451612903,0.3225806451612903,0.3225806451612903,0.29838709677419356,0.29838709677419356,0.29838709677419356,0.29838709677419356,0.29838709677419356,0.2903225806451613,0.2903225806451613,0.2903225806451613,0.2903225806451613,0.2903225806451613,0.2661290322580645,0.2661290322580645,0.25,0.25,0.24193548387096775,0.24193548387096775,0.23387096774193547,0.22580645161290322,0.22580645161290322,0.22580645161290322,0.18548387096774194,0.1774193548387097,0.16129032258064516,0.16129032258064516,0.16129032258064516,0.1532258064516129,0.1532258064516129,0.11290322580645161,0.10483870967741936,0.10483870967741936,0.06451612903225806,0.056451612903225805,0.056451612903225805,0.056451612903225805,0.024193548387096774,0.024193548387096774],\"yaxis\":\"y\",\"type\":\"scatter\"}],                        {\"template\":{\"data\":{\"histogram2dcontour\":[{\"type\":\"histogram2dcontour\",\"colorbar\":{\"outlinewidth\":0,\"ticks\":\"\"},\"colorscale\":[[0.0,\"#0d0887\"],[0.1111111111111111,\"#46039f\"],[0.2222222222222222,\"#7201a8\"],[0.3333333333333333,\"#9c179e\"],[0.4444444444444444,\"#bd3786\"],[0.5555555555555556,\"#d8576b\"],[0.6666666666666666,\"#ed7953\"],[0.7777777777777778,\"#fb9f3a\"],[0.8888888888888888,\"#fdca26\"],[1.0,\"#f0f921\"]]}],\"choropleth\":[{\"type\":\"choropleth\",\"colorbar\":{\"outlinewidth\":0,\"ticks\":\"\"}}],\"histogram2d\":[{\"type\":\"histogram2d\",\"colorbar\":{\"outlinewidth\":0,\"ticks\":\"\"},\"colorscale\":[[0.0,\"#0d0887\"],[0.1111111111111111,\"#46039f\"],[0.2222222222222222,\"#7201a8\"],[0.3333333333333333,\"#9c179e\"],[0.4444444444444444,\"#bd3786\"],[0.5555555555555556,\"#d8576b\"],[0.6666666666666666,\"#ed7953\"],[0.7777777777777778,\"#fb9f3a\"],[0.8888888888888888,\"#fdca26\"],[1.0,\"#f0f921\"]]}],\"heatmap\":[{\"type\":\"heatmap\",\"colorbar\":{\"outlinewidth\":0,\"ticks\":\"\"},\"colorscale\":[[0.0,\"#0d0887\"],[0.1111111111111111,\"#46039f\"],[0.2222222222222222,\"#7201a8\"],[0.3333333333333333,\"#9c179e\"],[0.4444444444444444,\"#bd3786\"],[0.5555555555555556,\"#d8576b\"],[0.6666666666666666,\"#ed7953\"],[0.7777777777777778,\"#fb9f3a\"],[0.8888888888888888,\"#fdca26\"],[1.0,\"#f0f921\"]]}],\"heatmapgl\":[{\"type\":\"heatmapgl\",\"colorbar\":{\"outlinewidth\":0,\"ticks\":\"\"},\"colorscale\":[[0.0,\"#0d0887\"],[0.1111111111111111,\"#46039f\"],[0.2222222222222222,\"#7201a8\"],[0.3333333333333333,\"#9c179e\"],[0.4444444444444444,\"#bd3786\"],[0.5555555555555556,\"#d8576b\"],[0.6666666666666666,\"#ed7953\"],[0.7777777777777778,\"#fb9f3a\"],[0.8888888888888888,\"#fdca26\"],[1.0,\"#f0f921\"]]}],\"contourcarpet\":[{\"type\":\"contourcarpet\",\"colorbar\":{\"outlinewidth\":0,\"ticks\":\"\"}}],\"contour\":[{\"type\":\"contour\",\"colorbar\":{\"outlinewidth\":0,\"ticks\":\"\"},\"colorscale\":[[0.0,\"#0d0887\"],[0.1111111111111111,\"#46039f\"],[0.2222222222222222,\"#7201a8\"],[0.3333333333333333,\"#9c179e\"],[0.4444444444444444,\"#bd3786\"],[0.5555555555555556,\"#d8576b\"],[0.6666666666666666,\"#ed7953\"],[0.7777777777777778,\"#fb9f3a\"],[0.8888888888888888,\"#fdca26\"],[1.0,\"#f0f921\"]]}],\"surface\":[{\"type\":\"surface\",\"colorbar\":{\"outlinewidth\":0,\"ticks\":\"\"},\"colorscale\":[[0.0,\"#0d0887\"],[0.1111111111111111,\"#46039f\"],[0.2222222222222222,\"#7201a8\"],[0.3333333333333333,\"#9c179e\"],[0.4444444444444444,\"#bd3786\"],[0.5555555555555556,\"#d8576b\"],[0.6666666666666666,\"#ed7953\"],[0.7777777777777778,\"#fb9f3a\"],[0.8888888888888888,\"#fdca26\"],[1.0,\"#f0f921\"]]}],\"mesh3d\":[{\"type\":\"mesh3d\",\"colorbar\":{\"outlinewidth\":0,\"ticks\":\"\"}}],\"scatter\":[{\"fillpattern\":{\"fillmode\":\"overlay\",\"size\":10,\"solidity\":0.2},\"type\":\"scatter\"}],\"parcoords\":[{\"type\":\"parcoords\",\"line\":{\"colorbar\":{\"outlinewidth\":0,\"ticks\":\"\"}}}],\"scatterpolargl\":[{\"type\":\"scatterpolargl\",\"marker\":{\"colorbar\":{\"outlinewidth\":0,\"ticks\":\"\"}}}],\"bar\":[{\"error_x\":{\"color\":\"#2a3f5f\"},\"error_y\":{\"color\":\"#2a3f5f\"},\"marker\":{\"line\":{\"color\":\"#E5ECF6\",\"width\":0.5},\"pattern\":{\"fillmode\":\"overlay\",\"size\":10,\"solidity\":0.2}},\"type\":\"bar\"}],\"scattergeo\":[{\"type\":\"scattergeo\",\"marker\":{\"colorbar\":{\"outlinewidth\":0,\"ticks\":\"\"}}}],\"scatterpolar\":[{\"type\":\"scatterpolar\",\"marker\":{\"colorbar\":{\"outlinewidth\":0,\"ticks\":\"\"}}}],\"histogram\":[{\"marker\":{\"pattern\":{\"fillmode\":\"overlay\",\"size\":10,\"solidity\":0.2}},\"type\":\"histogram\"}],\"scattergl\":[{\"type\":\"scattergl\",\"marker\":{\"colorbar\":{\"outlinewidth\":0,\"ticks\":\"\"}}}],\"scatter3d\":[{\"type\":\"scatter3d\",\"line\":{\"colorbar\":{\"outlinewidth\":0,\"ticks\":\"\"}},\"marker\":{\"colorbar\":{\"outlinewidth\":0,\"ticks\":\"\"}}}],\"scattermapbox\":[{\"type\":\"scattermapbox\",\"marker\":{\"colorbar\":{\"outlinewidth\":0,\"ticks\":\"\"}}}],\"scatterternary\":[{\"type\":\"scatterternary\",\"marker\":{\"colorbar\":{\"outlinewidth\":0,\"ticks\":\"\"}}}],\"scattercarpet\":[{\"type\":\"scattercarpet\",\"marker\":{\"colorbar\":{\"outlinewidth\":0,\"ticks\":\"\"}}}],\"carpet\":[{\"aaxis\":{\"endlinecolor\":\"#2a3f5f\",\"gridcolor\":\"white\",\"linecolor\":\"white\",\"minorgridcolor\":\"white\",\"startlinecolor\":\"#2a3f5f\"},\"baxis\":{\"endlinecolor\":\"#2a3f5f\",\"gridcolor\":\"white\",\"linecolor\":\"white\",\"minorgridcolor\":\"white\",\"startlinecolor\":\"#2a3f5f\"},\"type\":\"carpet\"}],\"table\":[{\"cells\":{\"fill\":{\"color\":\"#EBF0F8\"},\"line\":{\"color\":\"white\"}},\"header\":{\"fill\":{\"color\":\"#C8D4E3\"},\"line\":{\"color\":\"white\"}},\"type\":\"table\"}],\"barpolar\":[{\"marker\":{\"line\":{\"color\":\"#E5ECF6\",\"width\":0.5},\"pattern\":{\"fillmode\":\"overlay\",\"size\":10,\"solidity\":0.2}},\"type\":\"barpolar\"}],\"pie\":[{\"automargin\":true,\"type\":\"pie\"}]},\"layout\":{\"autotypenumbers\":\"strict\",\"colorway\":[\"#636efa\",\"#EF553B\",\"#00cc96\",\"#ab63fa\",\"#FFA15A\",\"#19d3f3\",\"#FF6692\",\"#B6E880\",\"#FF97FF\",\"#FECB52\"],\"font\":{\"color\":\"#2a3f5f\"},\"hovermode\":\"closest\",\"hoverlabel\":{\"align\":\"left\"},\"paper_bgcolor\":\"white\",\"plot_bgcolor\":\"#E5ECF6\",\"polar\":{\"bgcolor\":\"#E5ECF6\",\"angularaxis\":{\"gridcolor\":\"white\",\"linecolor\":\"white\",\"ticks\":\"\"},\"radialaxis\":{\"gridcolor\":\"white\",\"linecolor\":\"white\",\"ticks\":\"\"}},\"ternary\":{\"bgcolor\":\"#E5ECF6\",\"aaxis\":{\"gridcolor\":\"white\",\"linecolor\":\"white\",\"ticks\":\"\"},\"baxis\":{\"gridcolor\":\"white\",\"linecolor\":\"white\",\"ticks\":\"\"},\"caxis\":{\"gridcolor\":\"white\",\"linecolor\":\"white\",\"ticks\":\"\"}},\"coloraxis\":{\"colorbar\":{\"outlinewidth\":0,\"ticks\":\"\"}},\"colorscale\":{\"sequential\":[[0.0,\"#0d0887\"],[0.1111111111111111,\"#46039f\"],[0.2222222222222222,\"#7201a8\"],[0.3333333333333333,\"#9c179e\"],[0.4444444444444444,\"#bd3786\"],[0.5555555555555556,\"#d8576b\"],[0.6666666666666666,\"#ed7953\"],[0.7777777777777778,\"#fb9f3a\"],[0.8888888888888888,\"#fdca26\"],[1.0,\"#f0f921\"]],\"sequentialminus\":[[0.0,\"#0d0887\"],[0.1111111111111111,\"#46039f\"],[0.2222222222222222,\"#7201a8\"],[0.3333333333333333,\"#9c179e\"],[0.4444444444444444,\"#bd3786\"],[0.5555555555555556,\"#d8576b\"],[0.6666666666666666,\"#ed7953\"],[0.7777777777777778,\"#fb9f3a\"],[0.8888888888888888,\"#fdca26\"],[1.0,\"#f0f921\"]],\"diverging\":[[0,\"#8e0152\"],[0.1,\"#c51b7d\"],[0.2,\"#de77ae\"],[0.3,\"#f1b6da\"],[0.4,\"#fde0ef\"],[0.5,\"#f7f7f7\"],[0.6,\"#e6f5d0\"],[0.7,\"#b8e186\"],[0.8,\"#7fbc41\"],[0.9,\"#4d9221\"],[1,\"#276419\"]]},\"xaxis\":{\"gridcolor\":\"white\",\"linecolor\":\"white\",\"ticks\":\"\",\"title\":{\"standoff\":15},\"zerolinecolor\":\"white\",\"automargin\":true,\"zerolinewidth\":2},\"yaxis\":{\"gridcolor\":\"white\",\"linecolor\":\"white\",\"ticks\":\"\",\"title\":{\"standoff\":15},\"zerolinecolor\":\"white\",\"automargin\":true,\"zerolinewidth\":2},\"scene\":{\"xaxis\":{\"backgroundcolor\":\"#E5ECF6\",\"gridcolor\":\"white\",\"linecolor\":\"white\",\"showbackground\":true,\"ticks\":\"\",\"zerolinecolor\":\"white\",\"gridwidth\":2},\"yaxis\":{\"backgroundcolor\":\"#E5ECF6\",\"gridcolor\":\"white\",\"linecolor\":\"white\",\"showbackground\":true,\"ticks\":\"\",\"zerolinecolor\":\"white\",\"gridwidth\":2},\"zaxis\":{\"backgroundcolor\":\"#E5ECF6\",\"gridcolor\":\"white\",\"linecolor\":\"white\",\"showbackground\":true,\"ticks\":\"\",\"zerolinecolor\":\"white\",\"gridwidth\":2}},\"shapedefaults\":{\"line\":{\"color\":\"#2a3f5f\"}},\"annotationdefaults\":{\"arrowcolor\":\"#2a3f5f\",\"arrowhead\":0,\"arrowwidth\":1},\"geo\":{\"bgcolor\":\"white\",\"landcolor\":\"#E5ECF6\",\"subunitcolor\":\"white\",\"showland\":true,\"showlakes\":true,\"lakecolor\":\"white\"},\"title\":{\"x\":0.05},\"mapbox\":{\"style\":\"light\"}}},\"xaxis\":{\"anchor\":\"y\",\"domain\":[0.0,1.0],\"title\":{\"text\":\"threshold\"}},\"yaxis\":{\"anchor\":\"x\",\"domain\":[0.0,1.0],\"title\":{\"text\":\"value\"}},\"legend\":{\"title\":{\"text\":\"variable\"},\"tracegroupgap\":0},\"margin\":{\"t\":60}},                        {\"responsive\": true}                    ).then(function(){\n",
       "                            \n",
       "var gd = document.getElementById('83e9e6e1-d4f8-4501-8206-7fd1ee73a81e');\n",
       "var x = new MutationObserver(function (mutations, observer) {{\n",
       "        var display = window.getComputedStyle(gd).display;\n",
       "        if (!display || display === 'none') {{\n",
       "            console.log([gd, 'removed!']);\n",
       "            Plotly.purge(gd);\n",
       "            observer.disconnect();\n",
       "        }}\n",
       "}});\n",
       "\n",
       "// Listen for the removal of the full notebook cells\n",
       "var notebookContainer = gd.closest('#notebook-container');\n",
       "if (notebookContainer) {{\n",
       "    x.observe(notebookContainer, {childList: true});\n",
       "}}\n",
       "\n",
       "// Listen for the clearing of the current output cell\n",
       "var outputEl = gd.closest('.output');\n",
       "if (outputEl) {{\n",
       "    x.observe(outputEl, {childList: true});\n",
       "}}\n",
       "\n",
       "                        })                };                });            </script>        </div>"
      ]
     },
     "metadata": {},
     "output_type": "display_data"
    }
   ],
   "source": [
    "px.line(p1, x='threshold', y='value', color='variable')"
   ]
  },
  {
   "cell_type": "markdown",
   "id": "52b53e99",
   "metadata": {},
   "source": [
    "# ROC Curve & AUC\n",
    "\n",
    "- ROC (Receiver Operation Characteristic Curve)\n",
    "- '수신자판단곡선'이라고 불림\n",
    "- 모델에 대한 성능지표를 시각화하여 표현/의학 분야/머신러닝 이진분류 모델\n",
    "- FPR(False Positive Rate)에 따라 TPR(True Positive Rate, Recall)값이 어떻게 변화하는지를 시각화한 곡선\n",
    "    - TPR(민감도)와 TNR(특이성 / Specificity) 대한 시각화"
   ]
  },
  {
   "cell_type": "code",
   "execution_count": 38,
   "id": "3c750c49",
   "metadata": {},
   "outputs": [],
   "source": [
    "from sklearn.metrics import roc_curve"
   ]
  },
  {
   "cell_type": "code",
   "execution_count": 39,
   "id": "7749dfe6",
   "metadata": {},
   "outputs": [
    {
     "data": {
      "text/plain": [
       "array([0., 0., 0., ..., 0., 0., 0.])"
      ]
     },
     "execution_count": 39,
     "metadata": {},
     "output_type": "execute_result"
    }
   ],
   "source": [
    "Y_test_proba1 # 해약으로 분류 될 확률값"
   ]
  },
  {
   "cell_type": "code",
   "execution_count": 40,
   "id": "1082186c",
   "metadata": {},
   "outputs": [],
   "source": [
    "fprs, tprs, threshold2 = roc_curve(Y_test, Y_test_proba1)"
   ]
  },
  {
   "cell_type": "code",
   "execution_count": 41,
   "id": "3452f8c8",
   "metadata": {},
   "outputs": [],
   "source": [
    "df_roc = pd.DataFrame()\n",
    "df_roc['FPR'] = fprs\n",
    "df_roc['TPR'] = tprs\n",
    "df_roc['Threshold'] = threshold2"
   ]
  },
  {
   "cell_type": "code",
   "execution_count": 42,
   "id": "03978a6f",
   "metadata": {},
   "outputs": [],
   "source": [
    "import plotly.graph_objects as go # 그래프에 세부 요소를 추가"
   ]
  },
  {
   "cell_type": "code",
   "execution_count": 43,
   "id": "4c262a02",
   "metadata": {},
   "outputs": [
    {
     "data": {
      "application/vnd.plotly.v1+json": {
       "config": {
        "plotlyServerURL": "https://plot.ly"
       },
       "data": [
        {
         "hovertemplate": "FPR=%{x}<br>TPR=%{y}<extra></extra>",
         "legendgroup": "",
         "line": {
          "color": "#636efa",
          "dash": "solid"
         },
         "marker": {
          "symbol": "circle"
         },
         "mode": "lines",
         "name": "",
         "orientation": "v",
         "showlegend": false,
         "type": "scatter",
         "x": [
          0,
          0.002789400278940028,
          0.003088264594540745,
          0.004981071926678621,
          0.005080693365212194,
          0.005578800557880056,
          0.0060769077505479175,
          0.007969715082685794,
          0.00816895795975294,
          0.009165172345088663,
          0.014544730025901575,
          0.015540944411237299,
          0.018728830444311617,
          0.019027694759912332,
          0.019525801952580194,
          0.02221558079298665,
          0.02301255230125523,
          0.025702331141661684,
          0.026200438334329546,
          0.02749551703526599,
          0.02789400278940028,
          0.0299860529986053,
          0.03038453875273959,
          0.03297469615461247,
          0.033771667662881054,
          0.03705917513448894,
          0.038055389519824664,
          0.04184100418410042,
          0.04233911137676828,
          0.04522813309424188,
          0.046722454672245464,
          0.04801753337318191,
          0.048316397688782625,
          0.05000996214385336,
          0.051205419406256225,
          0.05578800557880056,
          0.06116756325961347,
          0.06166567045228133,
          0.06296074915321777,
          0.06455469216975493,
          0.06594939230922495,
          0.06734409244869496,
          0.07083084279737,
          0.0773062363020522,
          0.08009563658099222,
          0.08218768679019725,
          0.08746762303247659,
          0.0881649731022116,
          0.08876270173341302,
          0.09195058776648735,
          0.09742976688583384,
          0.09992030284917314,
          0.10181311018131102,
          0.10251046025104603,
          0.10490137477585176,
          0.1054991034070532,
          0.10938433950986252,
          0.11247260410440327,
          0.11356843992827256,
          0.11536162582187687,
          0.11904761904761904,
          0.1221358836421598,
          0.12761506276150628,
          0.128611277146842,
          0.12950787009364415,
          0.13319386331938632,
          0.1365809922295278,
          0.13827455668459854,
          0.13976887826260212,
          0.14186092847180715,
          0.14494919306634788,
          0.14664275752141862,
          0.14823670053795576,
          0.1503287507471608,
          0.1578999800757123,
          0.15979278740785016,
          0.16786212392906955,
          0.17244471010161386,
          0.1766288105200239,
          0.17911934648336322,
          0.18180912532376967,
          0.18519625423391115,
          0.1921697549312612,
          0.19535764096433553,
          0.19774855548914128,
          0.20073719864514844,
          0.20282924885435347,
          0.2055190276947599,
          0.2095038852361028,
          0.21289101414624428,
          0.21797170751145648,
          0.22235505080693366,
          1
         ],
         "xaxis": "x",
         "y": [
          0,
          0.024193548387096774,
          0.024193548387096774,
          0.056451612903225805,
          0.056451612903225805,
          0.056451612903225805,
          0.06451612903225806,
          0.10483870967741936,
          0.10483870967741936,
          0.11290322580645161,
          0.1532258064516129,
          0.1532258064516129,
          0.16129032258064516,
          0.16129032258064516,
          0.16129032258064516,
          0.1774193548387097,
          0.18548387096774194,
          0.22580645161290322,
          0.22580645161290322,
          0.22580645161290322,
          0.23387096774193547,
          0.24193548387096775,
          0.24193548387096775,
          0.25,
          0.25,
          0.2661290322580645,
          0.2661290322580645,
          0.2903225806451613,
          0.2903225806451613,
          0.2903225806451613,
          0.2903225806451613,
          0.2903225806451613,
          0.29838709677419356,
          0.29838709677419356,
          0.29838709677419356,
          0.29838709677419356,
          0.3225806451612903,
          0.3225806451612903,
          0.3225806451612903,
          0.3225806451612903,
          0.33064516129032256,
          0.33064516129032256,
          0.33064516129032256,
          0.3387096774193548,
          0.3467741935483871,
          0.3467741935483871,
          0.3548387096774194,
          0.3548387096774194,
          0.3548387096774194,
          0.3548387096774194,
          0.3709677419354839,
          0.3790322580645161,
          0.3790322580645161,
          0.3790322580645161,
          0.3790322580645161,
          0.3790322580645161,
          0.3790322580645161,
          0.3951612903225806,
          0.3951612903225806,
          0.3951612903225806,
          0.3951612903225806,
          0.3951612903225806,
          0.3951612903225806,
          0.3951612903225806,
          0.3951612903225806,
          0.3951612903225806,
          0.3951612903225806,
          0.3951612903225806,
          0.3951612903225806,
          0.3951612903225806,
          0.3951612903225806,
          0.3951612903225806,
          0.4032258064516129,
          0.4032258064516129,
          0.4112903225806452,
          0.41935483870967744,
          0.4274193548387097,
          0.4435483870967742,
          0.4435483870967742,
          0.4435483870967742,
          0.4435483870967742,
          0.4435483870967742,
          0.45161290322580644,
          0.45161290322580644,
          0.4596774193548387,
          0.4596774193548387,
          0.46774193548387094,
          0.46774193548387094,
          0.46774193548387094,
          0.46774193548387094,
          0.47580645161290325,
          0.47580645161290325,
          1
         ],
         "yaxis": "y"
        },
        {
         "mode": "lines",
         "type": "scatter",
         "x": [
          0,
          1
         ],
         "y": [
          0,
          1
         ]
        }
       ],
       "layout": {
        "legend": {
         "tracegroupgap": 0
        },
        "margin": {
         "t": 60
        },
        "template": {
         "data": {
          "bar": [
           {
            "error_x": {
             "color": "#2a3f5f"
            },
            "error_y": {
             "color": "#2a3f5f"
            },
            "marker": {
             "line": {
              "color": "#E5ECF6",
              "width": 0.5
             },
             "pattern": {
              "fillmode": "overlay",
              "size": 10,
              "solidity": 0.2
             }
            },
            "type": "bar"
           }
          ],
          "barpolar": [
           {
            "marker": {
             "line": {
              "color": "#E5ECF6",
              "width": 0.5
             },
             "pattern": {
              "fillmode": "overlay",
              "size": 10,
              "solidity": 0.2
             }
            },
            "type": "barpolar"
           }
          ],
          "carpet": [
           {
            "aaxis": {
             "endlinecolor": "#2a3f5f",
             "gridcolor": "white",
             "linecolor": "white",
             "minorgridcolor": "white",
             "startlinecolor": "#2a3f5f"
            },
            "baxis": {
             "endlinecolor": "#2a3f5f",
             "gridcolor": "white",
             "linecolor": "white",
             "minorgridcolor": "white",
             "startlinecolor": "#2a3f5f"
            },
            "type": "carpet"
           }
          ],
          "choropleth": [
           {
            "colorbar": {
             "outlinewidth": 0,
             "ticks": ""
            },
            "type": "choropleth"
           }
          ],
          "contour": [
           {
            "colorbar": {
             "outlinewidth": 0,
             "ticks": ""
            },
            "colorscale": [
             [
              0,
              "#0d0887"
             ],
             [
              0.1111111111111111,
              "#46039f"
             ],
             [
              0.2222222222222222,
              "#7201a8"
             ],
             [
              0.3333333333333333,
              "#9c179e"
             ],
             [
              0.4444444444444444,
              "#bd3786"
             ],
             [
              0.5555555555555556,
              "#d8576b"
             ],
             [
              0.6666666666666666,
              "#ed7953"
             ],
             [
              0.7777777777777778,
              "#fb9f3a"
             ],
             [
              0.8888888888888888,
              "#fdca26"
             ],
             [
              1,
              "#f0f921"
             ]
            ],
            "type": "contour"
           }
          ],
          "contourcarpet": [
           {
            "colorbar": {
             "outlinewidth": 0,
             "ticks": ""
            },
            "type": "contourcarpet"
           }
          ],
          "heatmap": [
           {
            "colorbar": {
             "outlinewidth": 0,
             "ticks": ""
            },
            "colorscale": [
             [
              0,
              "#0d0887"
             ],
             [
              0.1111111111111111,
              "#46039f"
             ],
             [
              0.2222222222222222,
              "#7201a8"
             ],
             [
              0.3333333333333333,
              "#9c179e"
             ],
             [
              0.4444444444444444,
              "#bd3786"
             ],
             [
              0.5555555555555556,
              "#d8576b"
             ],
             [
              0.6666666666666666,
              "#ed7953"
             ],
             [
              0.7777777777777778,
              "#fb9f3a"
             ],
             [
              0.8888888888888888,
              "#fdca26"
             ],
             [
              1,
              "#f0f921"
             ]
            ],
            "type": "heatmap"
           }
          ],
          "heatmapgl": [
           {
            "colorbar": {
             "outlinewidth": 0,
             "ticks": ""
            },
            "colorscale": [
             [
              0,
              "#0d0887"
             ],
             [
              0.1111111111111111,
              "#46039f"
             ],
             [
              0.2222222222222222,
              "#7201a8"
             ],
             [
              0.3333333333333333,
              "#9c179e"
             ],
             [
              0.4444444444444444,
              "#bd3786"
             ],
             [
              0.5555555555555556,
              "#d8576b"
             ],
             [
              0.6666666666666666,
              "#ed7953"
             ],
             [
              0.7777777777777778,
              "#fb9f3a"
             ],
             [
              0.8888888888888888,
              "#fdca26"
             ],
             [
              1,
              "#f0f921"
             ]
            ],
            "type": "heatmapgl"
           }
          ],
          "histogram": [
           {
            "marker": {
             "pattern": {
              "fillmode": "overlay",
              "size": 10,
              "solidity": 0.2
             }
            },
            "type": "histogram"
           }
          ],
          "histogram2d": [
           {
            "colorbar": {
             "outlinewidth": 0,
             "ticks": ""
            },
            "colorscale": [
             [
              0,
              "#0d0887"
             ],
             [
              0.1111111111111111,
              "#46039f"
             ],
             [
              0.2222222222222222,
              "#7201a8"
             ],
             [
              0.3333333333333333,
              "#9c179e"
             ],
             [
              0.4444444444444444,
              "#bd3786"
             ],
             [
              0.5555555555555556,
              "#d8576b"
             ],
             [
              0.6666666666666666,
              "#ed7953"
             ],
             [
              0.7777777777777778,
              "#fb9f3a"
             ],
             [
              0.8888888888888888,
              "#fdca26"
             ],
             [
              1,
              "#f0f921"
             ]
            ],
            "type": "histogram2d"
           }
          ],
          "histogram2dcontour": [
           {
            "colorbar": {
             "outlinewidth": 0,
             "ticks": ""
            },
            "colorscale": [
             [
              0,
              "#0d0887"
             ],
             [
              0.1111111111111111,
              "#46039f"
             ],
             [
              0.2222222222222222,
              "#7201a8"
             ],
             [
              0.3333333333333333,
              "#9c179e"
             ],
             [
              0.4444444444444444,
              "#bd3786"
             ],
             [
              0.5555555555555556,
              "#d8576b"
             ],
             [
              0.6666666666666666,
              "#ed7953"
             ],
             [
              0.7777777777777778,
              "#fb9f3a"
             ],
             [
              0.8888888888888888,
              "#fdca26"
             ],
             [
              1,
              "#f0f921"
             ]
            ],
            "type": "histogram2dcontour"
           }
          ],
          "mesh3d": [
           {
            "colorbar": {
             "outlinewidth": 0,
             "ticks": ""
            },
            "type": "mesh3d"
           }
          ],
          "parcoords": [
           {
            "line": {
             "colorbar": {
              "outlinewidth": 0,
              "ticks": ""
             }
            },
            "type": "parcoords"
           }
          ],
          "pie": [
           {
            "automargin": true,
            "type": "pie"
           }
          ],
          "scatter": [
           {
            "fillpattern": {
             "fillmode": "overlay",
             "size": 10,
             "solidity": 0.2
            },
            "type": "scatter"
           }
          ],
          "scatter3d": [
           {
            "line": {
             "colorbar": {
              "outlinewidth": 0,
              "ticks": ""
             }
            },
            "marker": {
             "colorbar": {
              "outlinewidth": 0,
              "ticks": ""
             }
            },
            "type": "scatter3d"
           }
          ],
          "scattercarpet": [
           {
            "marker": {
             "colorbar": {
              "outlinewidth": 0,
              "ticks": ""
             }
            },
            "type": "scattercarpet"
           }
          ],
          "scattergeo": [
           {
            "marker": {
             "colorbar": {
              "outlinewidth": 0,
              "ticks": ""
             }
            },
            "type": "scattergeo"
           }
          ],
          "scattergl": [
           {
            "marker": {
             "colorbar": {
              "outlinewidth": 0,
              "ticks": ""
             }
            },
            "type": "scattergl"
           }
          ],
          "scattermapbox": [
           {
            "marker": {
             "colorbar": {
              "outlinewidth": 0,
              "ticks": ""
             }
            },
            "type": "scattermapbox"
           }
          ],
          "scatterpolar": [
           {
            "marker": {
             "colorbar": {
              "outlinewidth": 0,
              "ticks": ""
             }
            },
            "type": "scatterpolar"
           }
          ],
          "scatterpolargl": [
           {
            "marker": {
             "colorbar": {
              "outlinewidth": 0,
              "ticks": ""
             }
            },
            "type": "scatterpolargl"
           }
          ],
          "scatterternary": [
           {
            "marker": {
             "colorbar": {
              "outlinewidth": 0,
              "ticks": ""
             }
            },
            "type": "scatterternary"
           }
          ],
          "surface": [
           {
            "colorbar": {
             "outlinewidth": 0,
             "ticks": ""
            },
            "colorscale": [
             [
              0,
              "#0d0887"
             ],
             [
              0.1111111111111111,
              "#46039f"
             ],
             [
              0.2222222222222222,
              "#7201a8"
             ],
             [
              0.3333333333333333,
              "#9c179e"
             ],
             [
              0.4444444444444444,
              "#bd3786"
             ],
             [
              0.5555555555555556,
              "#d8576b"
             ],
             [
              0.6666666666666666,
              "#ed7953"
             ],
             [
              0.7777777777777778,
              "#fb9f3a"
             ],
             [
              0.8888888888888888,
              "#fdca26"
             ],
             [
              1,
              "#f0f921"
             ]
            ],
            "type": "surface"
           }
          ],
          "table": [
           {
            "cells": {
             "fill": {
              "color": "#EBF0F8"
             },
             "line": {
              "color": "white"
             }
            },
            "header": {
             "fill": {
              "color": "#C8D4E3"
             },
             "line": {
              "color": "white"
             }
            },
            "type": "table"
           }
          ]
         },
         "layout": {
          "annotationdefaults": {
           "arrowcolor": "#2a3f5f",
           "arrowhead": 0,
           "arrowwidth": 1
          },
          "autotypenumbers": "strict",
          "coloraxis": {
           "colorbar": {
            "outlinewidth": 0,
            "ticks": ""
           }
          },
          "colorscale": {
           "diverging": [
            [
             0,
             "#8e0152"
            ],
            [
             0.1,
             "#c51b7d"
            ],
            [
             0.2,
             "#de77ae"
            ],
            [
             0.3,
             "#f1b6da"
            ],
            [
             0.4,
             "#fde0ef"
            ],
            [
             0.5,
             "#f7f7f7"
            ],
            [
             0.6,
             "#e6f5d0"
            ],
            [
             0.7,
             "#b8e186"
            ],
            [
             0.8,
             "#7fbc41"
            ],
            [
             0.9,
             "#4d9221"
            ],
            [
             1,
             "#276419"
            ]
           ],
           "sequential": [
            [
             0,
             "#0d0887"
            ],
            [
             0.1111111111111111,
             "#46039f"
            ],
            [
             0.2222222222222222,
             "#7201a8"
            ],
            [
             0.3333333333333333,
             "#9c179e"
            ],
            [
             0.4444444444444444,
             "#bd3786"
            ],
            [
             0.5555555555555556,
             "#d8576b"
            ],
            [
             0.6666666666666666,
             "#ed7953"
            ],
            [
             0.7777777777777778,
             "#fb9f3a"
            ],
            [
             0.8888888888888888,
             "#fdca26"
            ],
            [
             1,
             "#f0f921"
            ]
           ],
           "sequentialminus": [
            [
             0,
             "#0d0887"
            ],
            [
             0.1111111111111111,
             "#46039f"
            ],
            [
             0.2222222222222222,
             "#7201a8"
            ],
            [
             0.3333333333333333,
             "#9c179e"
            ],
            [
             0.4444444444444444,
             "#bd3786"
            ],
            [
             0.5555555555555556,
             "#d8576b"
            ],
            [
             0.6666666666666666,
             "#ed7953"
            ],
            [
             0.7777777777777778,
             "#fb9f3a"
            ],
            [
             0.8888888888888888,
             "#fdca26"
            ],
            [
             1,
             "#f0f921"
            ]
           ]
          },
          "colorway": [
           "#636efa",
           "#EF553B",
           "#00cc96",
           "#ab63fa",
           "#FFA15A",
           "#19d3f3",
           "#FF6692",
           "#B6E880",
           "#FF97FF",
           "#FECB52"
          ],
          "font": {
           "color": "#2a3f5f"
          },
          "geo": {
           "bgcolor": "white",
           "lakecolor": "white",
           "landcolor": "#E5ECF6",
           "showlakes": true,
           "showland": true,
           "subunitcolor": "white"
          },
          "hoverlabel": {
           "align": "left"
          },
          "hovermode": "closest",
          "mapbox": {
           "style": "light"
          },
          "paper_bgcolor": "white",
          "plot_bgcolor": "#E5ECF6",
          "polar": {
           "angularaxis": {
            "gridcolor": "white",
            "linecolor": "white",
            "ticks": ""
           },
           "bgcolor": "#E5ECF6",
           "radialaxis": {
            "gridcolor": "white",
            "linecolor": "white",
            "ticks": ""
           }
          },
          "scene": {
           "xaxis": {
            "backgroundcolor": "#E5ECF6",
            "gridcolor": "white",
            "gridwidth": 2,
            "linecolor": "white",
            "showbackground": true,
            "ticks": "",
            "zerolinecolor": "white"
           },
           "yaxis": {
            "backgroundcolor": "#E5ECF6",
            "gridcolor": "white",
            "gridwidth": 2,
            "linecolor": "white",
            "showbackground": true,
            "ticks": "",
            "zerolinecolor": "white"
           },
           "zaxis": {
            "backgroundcolor": "#E5ECF6",
            "gridcolor": "white",
            "gridwidth": 2,
            "linecolor": "white",
            "showbackground": true,
            "ticks": "",
            "zerolinecolor": "white"
           }
          },
          "shapedefaults": {
           "line": {
            "color": "#2a3f5f"
           }
          },
          "ternary": {
           "aaxis": {
            "gridcolor": "white",
            "linecolor": "white",
            "ticks": ""
           },
           "baxis": {
            "gridcolor": "white",
            "linecolor": "white",
            "ticks": ""
           },
           "bgcolor": "#E5ECF6",
           "caxis": {
            "gridcolor": "white",
            "linecolor": "white",
            "ticks": ""
           }
          },
          "title": {
           "x": 0.05
          },
          "xaxis": {
           "automargin": true,
           "gridcolor": "white",
           "linecolor": "white",
           "ticks": "",
           "title": {
            "standoff": 15
           },
           "zerolinecolor": "white",
           "zerolinewidth": 2
          },
          "yaxis": {
           "automargin": true,
           "gridcolor": "white",
           "linecolor": "white",
           "ticks": "",
           "title": {
            "standoff": 15
           },
           "zerolinecolor": "white",
           "zerolinewidth": 2
          }
         }
        },
        "xaxis": {
         "anchor": "y",
         "domain": [
          0,
          1
         ],
         "title": {
          "text": "FPR"
         }
        },
        "yaxis": {
         "anchor": "x",
         "domain": [
          0,
          1
         ],
         "title": {
          "text": "TPR"
         }
        }
       }
      },
      "text/html": [
       "<div>                            <div id=\"df0e7fce-c272-4a3d-98d6-76f5a252f65a\" class=\"plotly-graph-div\" style=\"height:525px; width:100%;\"></div>            <script type=\"text/javascript\">                require([\"plotly\"], function(Plotly) {                    window.PLOTLYENV=window.PLOTLYENV || {};                                    if (document.getElementById(\"df0e7fce-c272-4a3d-98d6-76f5a252f65a\")) {                    Plotly.newPlot(                        \"df0e7fce-c272-4a3d-98d6-76f5a252f65a\",                        [{\"hovertemplate\":\"FPR=%{x}\\u003cbr\\u003eTPR=%{y}\\u003cextra\\u003e\\u003c\\u002fextra\\u003e\",\"legendgroup\":\"\",\"line\":{\"color\":\"#636efa\",\"dash\":\"solid\"},\"marker\":{\"symbol\":\"circle\"},\"mode\":\"lines\",\"name\":\"\",\"orientation\":\"v\",\"showlegend\":false,\"x\":[0.0,0.002789400278940028,0.003088264594540745,0.004981071926678621,0.005080693365212194,0.005578800557880056,0.0060769077505479175,0.007969715082685794,0.00816895795975294,0.009165172345088663,0.014544730025901575,0.015540944411237299,0.018728830444311617,0.019027694759912332,0.019525801952580194,0.02221558079298665,0.02301255230125523,0.025702331141661684,0.026200438334329546,0.02749551703526599,0.02789400278940028,0.0299860529986053,0.03038453875273959,0.03297469615461247,0.033771667662881054,0.03705917513448894,0.038055389519824664,0.04184100418410042,0.04233911137676828,0.04522813309424188,0.046722454672245464,0.04801753337318191,0.048316397688782625,0.05000996214385336,0.051205419406256225,0.05578800557880056,0.06116756325961347,0.06166567045228133,0.06296074915321777,0.06455469216975493,0.06594939230922495,0.06734409244869496,0.07083084279737,0.0773062363020522,0.08009563658099222,0.08218768679019725,0.08746762303247659,0.0881649731022116,0.08876270173341302,0.09195058776648735,0.09742976688583384,0.09992030284917314,0.10181311018131102,0.10251046025104603,0.10490137477585176,0.1054991034070532,0.10938433950986252,0.11247260410440327,0.11356843992827256,0.11536162582187687,0.11904761904761904,0.1221358836421598,0.12761506276150628,0.128611277146842,0.12950787009364415,0.13319386331938632,0.1365809922295278,0.13827455668459854,0.13976887826260212,0.14186092847180715,0.14494919306634788,0.14664275752141862,0.14823670053795576,0.1503287507471608,0.1578999800757123,0.15979278740785016,0.16786212392906955,0.17244471010161386,0.1766288105200239,0.17911934648336322,0.18180912532376967,0.18519625423391115,0.1921697549312612,0.19535764096433553,0.19774855548914128,0.20073719864514844,0.20282924885435347,0.2055190276947599,0.2095038852361028,0.21289101414624428,0.21797170751145648,0.22235505080693366,1.0],\"xaxis\":\"x\",\"y\":[0.0,0.024193548387096774,0.024193548387096774,0.056451612903225805,0.056451612903225805,0.056451612903225805,0.06451612903225806,0.10483870967741936,0.10483870967741936,0.11290322580645161,0.1532258064516129,0.1532258064516129,0.16129032258064516,0.16129032258064516,0.16129032258064516,0.1774193548387097,0.18548387096774194,0.22580645161290322,0.22580645161290322,0.22580645161290322,0.23387096774193547,0.24193548387096775,0.24193548387096775,0.25,0.25,0.2661290322580645,0.2661290322580645,0.2903225806451613,0.2903225806451613,0.2903225806451613,0.2903225806451613,0.2903225806451613,0.29838709677419356,0.29838709677419356,0.29838709677419356,0.29838709677419356,0.3225806451612903,0.3225806451612903,0.3225806451612903,0.3225806451612903,0.33064516129032256,0.33064516129032256,0.33064516129032256,0.3387096774193548,0.3467741935483871,0.3467741935483871,0.3548387096774194,0.3548387096774194,0.3548387096774194,0.3548387096774194,0.3709677419354839,0.3790322580645161,0.3790322580645161,0.3790322580645161,0.3790322580645161,0.3790322580645161,0.3790322580645161,0.3951612903225806,0.3951612903225806,0.3951612903225806,0.3951612903225806,0.3951612903225806,0.3951612903225806,0.3951612903225806,0.3951612903225806,0.3951612903225806,0.3951612903225806,0.3951612903225806,0.3951612903225806,0.3951612903225806,0.3951612903225806,0.3951612903225806,0.4032258064516129,0.4032258064516129,0.4112903225806452,0.41935483870967744,0.4274193548387097,0.4435483870967742,0.4435483870967742,0.4435483870967742,0.4435483870967742,0.4435483870967742,0.45161290322580644,0.45161290322580644,0.4596774193548387,0.4596774193548387,0.46774193548387094,0.46774193548387094,0.46774193548387094,0.46774193548387094,0.47580645161290325,0.47580645161290325,1.0],\"yaxis\":\"y\",\"type\":\"scatter\"},{\"mode\":\"lines\",\"x\":[0,1],\"y\":[0,1],\"type\":\"scatter\"}],                        {\"template\":{\"data\":{\"histogram2dcontour\":[{\"type\":\"histogram2dcontour\",\"colorbar\":{\"outlinewidth\":0,\"ticks\":\"\"},\"colorscale\":[[0.0,\"#0d0887\"],[0.1111111111111111,\"#46039f\"],[0.2222222222222222,\"#7201a8\"],[0.3333333333333333,\"#9c179e\"],[0.4444444444444444,\"#bd3786\"],[0.5555555555555556,\"#d8576b\"],[0.6666666666666666,\"#ed7953\"],[0.7777777777777778,\"#fb9f3a\"],[0.8888888888888888,\"#fdca26\"],[1.0,\"#f0f921\"]]}],\"choropleth\":[{\"type\":\"choropleth\",\"colorbar\":{\"outlinewidth\":0,\"ticks\":\"\"}}],\"histogram2d\":[{\"type\":\"histogram2d\",\"colorbar\":{\"outlinewidth\":0,\"ticks\":\"\"},\"colorscale\":[[0.0,\"#0d0887\"],[0.1111111111111111,\"#46039f\"],[0.2222222222222222,\"#7201a8\"],[0.3333333333333333,\"#9c179e\"],[0.4444444444444444,\"#bd3786\"],[0.5555555555555556,\"#d8576b\"],[0.6666666666666666,\"#ed7953\"],[0.7777777777777778,\"#fb9f3a\"],[0.8888888888888888,\"#fdca26\"],[1.0,\"#f0f921\"]]}],\"heatmap\":[{\"type\":\"heatmap\",\"colorbar\":{\"outlinewidth\":0,\"ticks\":\"\"},\"colorscale\":[[0.0,\"#0d0887\"],[0.1111111111111111,\"#46039f\"],[0.2222222222222222,\"#7201a8\"],[0.3333333333333333,\"#9c179e\"],[0.4444444444444444,\"#bd3786\"],[0.5555555555555556,\"#d8576b\"],[0.6666666666666666,\"#ed7953\"],[0.7777777777777778,\"#fb9f3a\"],[0.8888888888888888,\"#fdca26\"],[1.0,\"#f0f921\"]]}],\"heatmapgl\":[{\"type\":\"heatmapgl\",\"colorbar\":{\"outlinewidth\":0,\"ticks\":\"\"},\"colorscale\":[[0.0,\"#0d0887\"],[0.1111111111111111,\"#46039f\"],[0.2222222222222222,\"#7201a8\"],[0.3333333333333333,\"#9c179e\"],[0.4444444444444444,\"#bd3786\"],[0.5555555555555556,\"#d8576b\"],[0.6666666666666666,\"#ed7953\"],[0.7777777777777778,\"#fb9f3a\"],[0.8888888888888888,\"#fdca26\"],[1.0,\"#f0f921\"]]}],\"contourcarpet\":[{\"type\":\"contourcarpet\",\"colorbar\":{\"outlinewidth\":0,\"ticks\":\"\"}}],\"contour\":[{\"type\":\"contour\",\"colorbar\":{\"outlinewidth\":0,\"ticks\":\"\"},\"colorscale\":[[0.0,\"#0d0887\"],[0.1111111111111111,\"#46039f\"],[0.2222222222222222,\"#7201a8\"],[0.3333333333333333,\"#9c179e\"],[0.4444444444444444,\"#bd3786\"],[0.5555555555555556,\"#d8576b\"],[0.6666666666666666,\"#ed7953\"],[0.7777777777777778,\"#fb9f3a\"],[0.8888888888888888,\"#fdca26\"],[1.0,\"#f0f921\"]]}],\"surface\":[{\"type\":\"surface\",\"colorbar\":{\"outlinewidth\":0,\"ticks\":\"\"},\"colorscale\":[[0.0,\"#0d0887\"],[0.1111111111111111,\"#46039f\"],[0.2222222222222222,\"#7201a8\"],[0.3333333333333333,\"#9c179e\"],[0.4444444444444444,\"#bd3786\"],[0.5555555555555556,\"#d8576b\"],[0.6666666666666666,\"#ed7953\"],[0.7777777777777778,\"#fb9f3a\"],[0.8888888888888888,\"#fdca26\"],[1.0,\"#f0f921\"]]}],\"mesh3d\":[{\"type\":\"mesh3d\",\"colorbar\":{\"outlinewidth\":0,\"ticks\":\"\"}}],\"scatter\":[{\"fillpattern\":{\"fillmode\":\"overlay\",\"size\":10,\"solidity\":0.2},\"type\":\"scatter\"}],\"parcoords\":[{\"type\":\"parcoords\",\"line\":{\"colorbar\":{\"outlinewidth\":0,\"ticks\":\"\"}}}],\"scatterpolargl\":[{\"type\":\"scatterpolargl\",\"marker\":{\"colorbar\":{\"outlinewidth\":0,\"ticks\":\"\"}}}],\"bar\":[{\"error_x\":{\"color\":\"#2a3f5f\"},\"error_y\":{\"color\":\"#2a3f5f\"},\"marker\":{\"line\":{\"color\":\"#E5ECF6\",\"width\":0.5},\"pattern\":{\"fillmode\":\"overlay\",\"size\":10,\"solidity\":0.2}},\"type\":\"bar\"}],\"scattergeo\":[{\"type\":\"scattergeo\",\"marker\":{\"colorbar\":{\"outlinewidth\":0,\"ticks\":\"\"}}}],\"scatterpolar\":[{\"type\":\"scatterpolar\",\"marker\":{\"colorbar\":{\"outlinewidth\":0,\"ticks\":\"\"}}}],\"histogram\":[{\"marker\":{\"pattern\":{\"fillmode\":\"overlay\",\"size\":10,\"solidity\":0.2}},\"type\":\"histogram\"}],\"scattergl\":[{\"type\":\"scattergl\",\"marker\":{\"colorbar\":{\"outlinewidth\":0,\"ticks\":\"\"}}}],\"scatter3d\":[{\"type\":\"scatter3d\",\"line\":{\"colorbar\":{\"outlinewidth\":0,\"ticks\":\"\"}},\"marker\":{\"colorbar\":{\"outlinewidth\":0,\"ticks\":\"\"}}}],\"scattermapbox\":[{\"type\":\"scattermapbox\",\"marker\":{\"colorbar\":{\"outlinewidth\":0,\"ticks\":\"\"}}}],\"scatterternary\":[{\"type\":\"scatterternary\",\"marker\":{\"colorbar\":{\"outlinewidth\":0,\"ticks\":\"\"}}}],\"scattercarpet\":[{\"type\":\"scattercarpet\",\"marker\":{\"colorbar\":{\"outlinewidth\":0,\"ticks\":\"\"}}}],\"carpet\":[{\"aaxis\":{\"endlinecolor\":\"#2a3f5f\",\"gridcolor\":\"white\",\"linecolor\":\"white\",\"minorgridcolor\":\"white\",\"startlinecolor\":\"#2a3f5f\"},\"baxis\":{\"endlinecolor\":\"#2a3f5f\",\"gridcolor\":\"white\",\"linecolor\":\"white\",\"minorgridcolor\":\"white\",\"startlinecolor\":\"#2a3f5f\"},\"type\":\"carpet\"}],\"table\":[{\"cells\":{\"fill\":{\"color\":\"#EBF0F8\"},\"line\":{\"color\":\"white\"}},\"header\":{\"fill\":{\"color\":\"#C8D4E3\"},\"line\":{\"color\":\"white\"}},\"type\":\"table\"}],\"barpolar\":[{\"marker\":{\"line\":{\"color\":\"#E5ECF6\",\"width\":0.5},\"pattern\":{\"fillmode\":\"overlay\",\"size\":10,\"solidity\":0.2}},\"type\":\"barpolar\"}],\"pie\":[{\"automargin\":true,\"type\":\"pie\"}]},\"layout\":{\"autotypenumbers\":\"strict\",\"colorway\":[\"#636efa\",\"#EF553B\",\"#00cc96\",\"#ab63fa\",\"#FFA15A\",\"#19d3f3\",\"#FF6692\",\"#B6E880\",\"#FF97FF\",\"#FECB52\"],\"font\":{\"color\":\"#2a3f5f\"},\"hovermode\":\"closest\",\"hoverlabel\":{\"align\":\"left\"},\"paper_bgcolor\":\"white\",\"plot_bgcolor\":\"#E5ECF6\",\"polar\":{\"bgcolor\":\"#E5ECF6\",\"angularaxis\":{\"gridcolor\":\"white\",\"linecolor\":\"white\",\"ticks\":\"\"},\"radialaxis\":{\"gridcolor\":\"white\",\"linecolor\":\"white\",\"ticks\":\"\"}},\"ternary\":{\"bgcolor\":\"#E5ECF6\",\"aaxis\":{\"gridcolor\":\"white\",\"linecolor\":\"white\",\"ticks\":\"\"},\"baxis\":{\"gridcolor\":\"white\",\"linecolor\":\"white\",\"ticks\":\"\"},\"caxis\":{\"gridcolor\":\"white\",\"linecolor\":\"white\",\"ticks\":\"\"}},\"coloraxis\":{\"colorbar\":{\"outlinewidth\":0,\"ticks\":\"\"}},\"colorscale\":{\"sequential\":[[0.0,\"#0d0887\"],[0.1111111111111111,\"#46039f\"],[0.2222222222222222,\"#7201a8\"],[0.3333333333333333,\"#9c179e\"],[0.4444444444444444,\"#bd3786\"],[0.5555555555555556,\"#d8576b\"],[0.6666666666666666,\"#ed7953\"],[0.7777777777777778,\"#fb9f3a\"],[0.8888888888888888,\"#fdca26\"],[1.0,\"#f0f921\"]],\"sequentialminus\":[[0.0,\"#0d0887\"],[0.1111111111111111,\"#46039f\"],[0.2222222222222222,\"#7201a8\"],[0.3333333333333333,\"#9c179e\"],[0.4444444444444444,\"#bd3786\"],[0.5555555555555556,\"#d8576b\"],[0.6666666666666666,\"#ed7953\"],[0.7777777777777778,\"#fb9f3a\"],[0.8888888888888888,\"#fdca26\"],[1.0,\"#f0f921\"]],\"diverging\":[[0,\"#8e0152\"],[0.1,\"#c51b7d\"],[0.2,\"#de77ae\"],[0.3,\"#f1b6da\"],[0.4,\"#fde0ef\"],[0.5,\"#f7f7f7\"],[0.6,\"#e6f5d0\"],[0.7,\"#b8e186\"],[0.8,\"#7fbc41\"],[0.9,\"#4d9221\"],[1,\"#276419\"]]},\"xaxis\":{\"gridcolor\":\"white\",\"linecolor\":\"white\",\"ticks\":\"\",\"title\":{\"standoff\":15},\"zerolinecolor\":\"white\",\"automargin\":true,\"zerolinewidth\":2},\"yaxis\":{\"gridcolor\":\"white\",\"linecolor\":\"white\",\"ticks\":\"\",\"title\":{\"standoff\":15},\"zerolinecolor\":\"white\",\"automargin\":true,\"zerolinewidth\":2},\"scene\":{\"xaxis\":{\"backgroundcolor\":\"#E5ECF6\",\"gridcolor\":\"white\",\"linecolor\":\"white\",\"showbackground\":true,\"ticks\":\"\",\"zerolinecolor\":\"white\",\"gridwidth\":2},\"yaxis\":{\"backgroundcolor\":\"#E5ECF6\",\"gridcolor\":\"white\",\"linecolor\":\"white\",\"showbackground\":true,\"ticks\":\"\",\"zerolinecolor\":\"white\",\"gridwidth\":2},\"zaxis\":{\"backgroundcolor\":\"#E5ECF6\",\"gridcolor\":\"white\",\"linecolor\":\"white\",\"showbackground\":true,\"ticks\":\"\",\"zerolinecolor\":\"white\",\"gridwidth\":2}},\"shapedefaults\":{\"line\":{\"color\":\"#2a3f5f\"}},\"annotationdefaults\":{\"arrowcolor\":\"#2a3f5f\",\"arrowhead\":0,\"arrowwidth\":1},\"geo\":{\"bgcolor\":\"white\",\"landcolor\":\"#E5ECF6\",\"subunitcolor\":\"white\",\"showland\":true,\"showlakes\":true,\"lakecolor\":\"white\"},\"title\":{\"x\":0.05},\"mapbox\":{\"style\":\"light\"}}},\"xaxis\":{\"anchor\":\"y\",\"domain\":[0.0,1.0],\"title\":{\"text\":\"FPR\"}},\"yaxis\":{\"anchor\":\"x\",\"domain\":[0.0,1.0],\"title\":{\"text\":\"TPR\"}},\"legend\":{\"tracegroupgap\":0},\"margin\":{\"t\":60}},                        {\"responsive\": true}                    ).then(function(){\n",
       "                            \n",
       "var gd = document.getElementById('df0e7fce-c272-4a3d-98d6-76f5a252f65a');\n",
       "var x = new MutationObserver(function (mutations, observer) {{\n",
       "        var display = window.getComputedStyle(gd).display;\n",
       "        if (!display || display === 'none') {{\n",
       "            console.log([gd, 'removed!']);\n",
       "            Plotly.purge(gd);\n",
       "            observer.disconnect();\n",
       "        }}\n",
       "}});\n",
       "\n",
       "// Listen for the removal of the full notebook cells\n",
       "var notebookContainer = gd.closest('#notebook-container');\n",
       "if (notebookContainer) {{\n",
       "    x.observe(notebookContainer, {childList: true});\n",
       "}}\n",
       "\n",
       "// Listen for the clearing of the current output cell\n",
       "var outputEl = gd.closest('.output');\n",
       "if (outputEl) {{\n",
       "    x.observe(outputEl, {childList: true});\n",
       "}}\n",
       "\n",
       "                        })                };                });            </script>        </div>"
      ]
     },
     "metadata": {},
     "output_type": "display_data"
    }
   ],
   "source": [
    "fig1 = px.line(df_roc, x='FPR', y='TPR')\n",
    "fig1.add_trace(go.Scatter(x=[0,1], y=[0,1], mode='lines'))"
   ]
  },
  {
   "cell_type": "markdown",
   "id": "ca4b260a",
   "metadata": {},
   "source": [
    "**AUC (Area Under the Curve)**\n",
    "- ROC에서 아랫 면적을 나타내며, 이 면적은 모델의 성능을 의미\n",
    "    - AUC가 0.5 : 모델이 데이터를 Random하게 예측 (중앙선에 가깝게 선이 표현)\n",
    "    - AUC가 1.0 : 모델이 데이터를 완벽하게 예측\n",
    "    - AUC가 0.7이상인 경우 : 모델이 어느정도 성능을 보임\n",
    "    - 0.5~0.7 : 모델의 예측이 제한적이며 개선이 필요\n",
    "    - 실제로는 도메인마다 / 데이터마다 다름!"
   ]
  },
  {
   "cell_type": "code",
   "execution_count": 44,
   "id": "9ba33cfe",
   "metadata": {},
   "outputs": [],
   "source": [
    "from sklearn.metrics import roc_auc_score"
   ]
  },
  {
   "cell_type": "code",
   "execution_count": 45,
   "id": "8372dae7",
   "metadata": {},
   "outputs": [
    {
     "name": "stdout",
     "output_type": "stream",
     "text": [
      "학습 AUC :  0.5536660238485673\n",
      "검증 AUC :  0.510552641896278\n"
     ]
    }
   ],
   "source": [
    "print('학습 AUC : ', roc_auc_score(Y_train, Y_train_pred))\n",
    "print('검증 AUC : ', roc_auc_score(Y_test, Y_test_pred))"
   ]
  },
  {
   "cell_type": "markdown",
   "id": "3c028280",
   "metadata": {},
   "source": [
    "# 회귀 모델 평가 지표\n",
    "\n",
    "- R^2 (결정계수) : 변동을 기반으로 예측성능을 평가하는 지표/ 회귀 모델이 데이터를 얼마나 잘 설명하고 있는가 (0 ~ 1)\n",
    "- MSE (Mean Squared Error) : 실제값과 예측값의 차이를 제곱해 평균을 계산\n",
    "    - 0으로 갈수록 정확한 모델\n",
    "    - RMS(Root Mean Square Error)\n",
    "\n",
    "- MAE (Mean Absolute Error) : 실제값과 예측값의 차이에 절댓값의 평균을 계산\n",
    "    - 0으로 갈수록 정확한 모델"
   ]
  },
  {
   "cell_type": "markdown",
   "id": "841352bf",
   "metadata": {},
   "source": [
    "# Overfitting (과적합)\n",
    "\n",
    "- 학습 데이터에 대해 성능이 월등히 높게 측정 되나 (100%) 검증 데이터에 대해 성능이 현저히 떨어지는 현상\n",
    "- 컴퓨터가 학습데이터에 대해 과하게 학습을 수행 -> 일반화\n",
    "- 해결 : \n",
    "    - 학습이 잘 수행되도록 데이터를 깔끔하게 처리\n",
    "    - 알고리즘을 통제 -> 특성공학(데이터를 처리 + 알고리즘 통제)"
   ]
  },
  {
   "cell_type": "markdown",
   "id": "8a94c69c",
   "metadata": {},
   "source": [
    "## 특성공학 기법을 적용하여 학습\n",
    "\n",
    "- 특성 공학: 학습을 수행하기 위해 데이터를 깔끔하게 다듬는 과정\n",
    "- 데이터마이닝에서 알고리즘의 학습 및 일반화 성능을 높이기 위한 기술\n",
    "- 1. Scaling & Encoding\n",
    "- 2. Imputation\n",
    "- 3. Cross Validation\n",
    "- 4. Hyper Parameter Tuning\n",
    "- 5. (분류) imbalanced Data Sampling\n",
    "- 6. Feature Selection\n",
    "- 7. PCA/ Clustering ..."
   ]
  },
  {
   "cell_type": "markdown",
   "id": "ea601f2f",
   "metadata": {},
   "source": [
    "# 개별미션 (4주차 1일)"
   ]
  },
  {
   "cell_type": "code",
   "execution_count": null,
   "id": "e14c5196",
   "metadata": {},
   "outputs": [],
   "source": [
    "df1 = pd.read_csv('12_Data.csv')"
   ]
  },
  {
   "cell_type": "code",
   "execution_count": null,
   "id": "233fa371",
   "metadata": {},
   "outputs": [],
   "source": [
    "df1.head(1)"
   ]
  },
  {
   "cell_type": "markdown",
   "id": "9eb53cd2",
   "metadata": {},
   "source": [
    "-----------------"
   ]
  },
  {
   "cell_type": "markdown",
   "id": "0dbac742",
   "metadata": {},
   "source": [
    "1. \"Max\"이름이 붙은 Column의 기술통계량을 확인"
   ]
  },
  {
   "cell_type": "code",
   "execution_count": null,
   "id": "1bcb0017",
   "metadata": {},
   "outputs": [],
   "source": [
    "filtered_columns = df1.filter(like='Max', axis=1)"
   ]
  },
  {
   "cell_type": "code",
   "execution_count": null,
   "id": "1301b6ae",
   "metadata": {},
   "outputs": [],
   "source": [
    "filtered_columns.describe()"
   ]
  },
  {
   "cell_type": "markdown",
   "id": "6bc3e1f2",
   "metadata": {},
   "source": [
    "### 강사님풀이"
   ]
  },
  {
   "cell_type": "code",
   "execution_count": null,
   "id": "aca988ba",
   "metadata": {},
   "outputs": [],
   "source": [
    "col_list = df1.columns.tolist()"
   ]
  },
  {
   "cell_type": "code",
   "execution_count": null,
   "id": "8ef50681",
   "metadata": {},
   "outputs": [],
   "source": [
    "# 리스트 컴프리헨션 사용\n",
    "df1[[x for x in col_list if 'Max' in x]].describe()"
   ]
  },
  {
   "cell_type": "markdown",
   "id": "e63b53f6",
   "metadata": {},
   "source": [
    "---------"
   ]
  },
  {
   "cell_type": "markdown",
   "id": "f0a6841c",
   "metadata": {},
   "source": [
    "2. Mean Radius(세포 평균 반지름)값에서 평균으로부터, 표준편차의 3배이상 떨어진 데이터의 개수를 확인"
   ]
  },
  {
   "cell_type": "code",
   "execution_count": null,
   "id": "8ab77132",
   "metadata": {},
   "outputs": [],
   "source": [
    "mean2 = df1['Mean Radius'].mean()\n",
    "std2 = df1['Mean Radius'].std()"
   ]
  },
  {
   "cell_type": "code",
   "execution_count": null,
   "id": "a82bd975",
   "metadata": {},
   "outputs": [],
   "source": [
    "len(df1[df1['Mean Radius'] > (mean2 + std2 * 3)])"
   ]
  },
  {
   "cell_type": "markdown",
   "id": "b0579826",
   "metadata": {},
   "source": [
    "### 강사님풀이"
   ]
  },
  {
   "cell_type": "code",
   "execution_count": null,
   "id": "b80e79e1",
   "metadata": {},
   "outputs": [],
   "source": [
    "c1 = df1['Mean Radius'] >= df1['Mean Radius'].mean() + (df1['Mean Radius'].std()*3)\n",
    "c2 = df1['Mean Radius'] <= df1['Mean Radius'].mean() - (df1['Mean Radius'].std()*3)\n",
    "\n",
    "df1.loc[c1|c2].shape[0]"
   ]
  },
  {
   "cell_type": "markdown",
   "id": "138c8a8e",
   "metadata": {},
   "source": [
    "----------"
   ]
  },
  {
   "cell_type": "markdown",
   "id": "e662747e",
   "metadata": {},
   "source": [
    "3. \"Diagnosis\"(진단 - 암M/정상B 세포 여부)에 따라 Mean Radius의 대표값의 차이가 있는지 가설검정을 수행\n",
    "    - 가설 및 결론 작성"
   ]
  },
  {
   "cell_type": "code",
   "execution_count": null,
   "id": "b33d5d12",
   "metadata": {},
   "outputs": [],
   "source": [
    "df1['Diagnosis'].value_counts()"
   ]
  },
  {
   "cell_type": "code",
   "execution_count": null,
   "id": "322e13b2",
   "metadata": {},
   "outputs": [],
   "source": [
    "cond1 = (df1['Diagnosis'] == 'M')\n",
    "cond2 = (df1['Diagnosis'] == 'B')\n",
    "\n",
    "df_M = df1[cond1]\n",
    "df_B = df1[cond2]"
   ]
  },
  {
   "cell_type": "code",
   "execution_count": null,
   "id": "cbd53aa2",
   "metadata": {},
   "outputs": [],
   "source": [
    "# 귀무가설 : 암과 정상 진단에 따라 Mean Radius의 대표값에 차이가 없다.\n",
    "# 대립가설 : 암과 정상 진단에 따라 Mean Radius의 대표값에 차이가 있다.\n",
    "stats.ranksums(df_M['Mean Radius'], df_B['Mean Radius'])\n",
    "# P.value < 0.05 /대립가설 참/ 암과 정상 진단에 따라 Mean Radius의 대표값에 차이가 있다."
   ]
  },
  {
   "cell_type": "markdown",
   "id": "ee131073",
   "metadata": {},
   "source": [
    "### 강사님풀이"
   ]
  },
  {
   "cell_type": "code",
   "execution_count": null,
   "id": "d558a484",
   "metadata": {},
   "outputs": [],
   "source": [
    "# 3-1. 각 집단 별 Mean Radius 값의 정규성 검정부터 실시해야 함\n",
    "# 귀무가설 : 해당 연속형 데이터의 분포는 정규분포를 따른다.\n",
    "# 대립가설 : 해당 연속형 데이터의 분포는 정규분포를 따르지 않는다.\n",
    "print(stats.normaltest(df_M['Mean Radius']))\n",
    "print(stats.normaltest(df_B['Mean Radius']))"
   ]
  },
  {
   "cell_type": "code",
   "execution_count": null,
   "id": "db7a83d3",
   "metadata": {
    "scrolled": true
   },
   "outputs": [],
   "source": [
    "# 3-2. (정규분포를 따르지 않는/비모수)두 집단의 중앙값을 비교\n",
    "# 귀무가설 : 두 집단의 해당 연속형 자료의 중앙값은 서로 차이가 없다.\n",
    "# 대립가설 : 두 집단의 해당 연속형 자료의 중앙값은 서로 차이가 있다.\n",
    "stats.ranksums(df_M['Mean Radius'],df_B['Mean Radius'])\n",
    "# P.value<0.05/ 대립가설 참 / 두 집단의 해당 연속형 자료의 중앙값은 서로 차이가 있다."
   ]
  },
  {
   "cell_type": "markdown",
   "id": "6c98a45d",
   "metadata": {},
   "source": [
    "----------"
   ]
  },
  {
   "cell_type": "markdown",
   "id": "0a8826e9",
   "metadata": {},
   "source": [
    "4. Mean Radius 과 Mean Smoothness(세포 평균 곡률/ 매끄러움 정도)이 서로 상관성이 있는지 가설검정을 수행하고, 상관계수를 확인(Corrleation Coefficant)\n",
    "    - 가설 및 결론 작성"
   ]
  },
  {
   "cell_type": "code",
   "execution_count": null,
   "id": "37286a15",
   "metadata": {},
   "outputs": [],
   "source": [
    "# 귀무가설 : Mean Radius와 Mean Smoothness 사이 상관성이 없다.\n",
    "# 대립가설 : Mean Radius와 Mean Smoothness 사이 상관성이 있다.\n",
    "stats.spearmanr(df1['Mean Radius'], df1['Mean Smoothness'])\n",
    "# P.value<0.05/대립가설 참/Mean Radius와 Mean Smoothness 사이 상관성이 있다"
   ]
  },
  {
   "cell_type": "code",
   "execution_count": null,
   "id": "e6be2bde",
   "metadata": {},
   "outputs": [],
   "source": [
    "df1[['Mean Radius', 'Mean Smoothness']].corr()"
   ]
  },
  {
   "cell_type": "markdown",
   "id": "c45cf90d",
   "metadata": {},
   "source": [
    "### 강사님풀이"
   ]
  },
  {
   "cell_type": "code",
   "execution_count": null,
   "id": "53a7cd20",
   "metadata": {},
   "outputs": [],
   "source": [
    "# 4-1. 두 연속형 자료의 정규성 확인\n",
    "# 귀무가설 : 해당 연속형 데이터의 분포는 정규분포를 따른다.\n",
    "# 대립가설 : 해당 연속형 데이터의 분포는 정규분포를 따르지 않는다.\n",
    "print(stats.normaltest(df_M['Mean Radius']))\n",
    "print(stats.normaltest(df_B['Mean Radius']))\n",
    "# P.value<0.05 / 대립가설 참 / 정규성을 따르지 않는다."
   ]
  },
  {
   "cell_type": "code",
   "execution_count": null,
   "id": "534400fb",
   "metadata": {},
   "outputs": [],
   "source": [
    "# 4-2. (비모수) 두 연속형 자료의 상관검정\n",
    "# 귀무가설 : Mean Radius와 Mean Smoothness 사이 상관성이 없다.\n",
    "# 대립가설 : Mean Radius와 Mean Smoothness 사이 상관성이 있다.\n",
    "stats.spearmanr(df1['Mean Radius'], df1['Mean Smoothness'])\n",
    "# P.value<0.05/대립가설 참/Mean Radius와 Mean Smoothness 사이 상관성이 있다"
   ]
  },
  {
   "cell_type": "code",
   "execution_count": null,
   "id": "39406f23",
   "metadata": {},
   "outputs": [],
   "source": [
    "df1[['Mean Radius', 'Mean Smoothness']].corr(method = 'spearman')"
   ]
  },
  {
   "cell_type": "markdown",
   "id": "126d3f05",
   "metadata": {},
   "source": [
    "-----------"
   ]
  },
  {
   "cell_type": "markdown",
   "id": "c481d3bd",
   "metadata": {},
   "source": [
    "5. \"Mean\" 명칭이 포함된 모든 Columns 에 대해 정규성 검정을 실시하고, 정규분포를 따르지 않는 Column을 모두 Histogram을 시각화하는 함수로 구성"
   ]
  },
  {
   "cell_type": "code",
   "execution_count": null,
   "id": "2f6e5e37",
   "metadata": {},
   "outputs": [],
   "source": [
    "df2 = df1.filter(like='Mean', axis=1)\n",
    "df2"
   ]
  },
  {
   "cell_type": "code",
   "execution_count": null,
   "id": "eb615d77",
   "metadata": {},
   "outputs": [],
   "source": [
    "# 귀무가설 : 해당 데이터의 분포는 정규분포를 따른다.\n",
    "# 대립가설 : 해당 데이터의 분포는 정규분포를 따르지 않는다.\n",
    "\n",
    "def func5():\n",
    "    df2 = df1.filter(like='Mean', axis=1)\n",
    "    for i in df2.columns:\n",
    "        data = df2[i]\n",
    "        stat, p_value = stats.normaltest(data)\n",
    "        \n",
    "        if p_value<0.05:\n",
    "            fig = px.histogram(df1, x=i)\n",
    "            fig.show()\n",
    "            \n",
    "        else:\n",
    "            print('정규분포를 따릅니다.')"
   ]
  },
  {
   "cell_type": "code",
   "execution_count": null,
   "id": "f9ccf19a",
   "metadata": {},
   "outputs": [],
   "source": [
    "func5()"
   ]
  },
  {
   "cell_type": "markdown",
   "id": "5765c386",
   "metadata": {},
   "source": [
    "### 강사님 풀이"
   ]
  },
  {
   "cell_type": "code",
   "execution_count": null,
   "id": "bb5fc56b",
   "metadata": {},
   "outputs": [],
   "source": [
    "def func6():\n",
    "    col_list_mean = [x for x in df1.columns.tolist() if 'Mean' in x]\n",
    "    non_normal_list = [] # 정규성을 따르지 않는 항목들을 저장하는 리스트\n",
    "    for i in col_list_mean:\n",
    "        if 0.05 >= stats.normaltest(df1[i])[1]:\n",
    "            non_normal_list.append(i) # 정규성을 따르지 않는 항목들을 추가\n",
    "            print(i,'항목은 정규분포를 따르지 않는다.')\n",
    "        else:\n",
    "            print(i, '항목은 정규분포를 따른다.')\n",
    "            \n",
    "    p1 = df1[non_normal_list].melt() # 항목들과 값으로 데이터를 재구조화\n",
    "    return px.histogram(p1, x='value', color='variable')"
   ]
  },
  {
   "cell_type": "code",
   "execution_count": null,
   "id": "b28dd31f",
   "metadata": {},
   "outputs": [],
   "source": [
    "func6()"
   ]
  },
  {
   "cell_type": "markdown",
   "id": "d1ef1d04",
   "metadata": {},
   "source": [
    "6. 세포의 기하구조를 입력했을 때, 암/정상 세포를 판단하는 분류모델을 생성\n",
    "    - 'Mean'명칭이 포함된 모든 Column을 X로 / Diagnosis를 Y로 선언\n",
    "    - 알고리즘은 DecisionTreeClassifier / Random_state = 1234\n",
    "    - 생성된 모델을 Model_cell.sav로 저장"
   ]
  },
  {
   "cell_type": "code",
   "execution_count": null,
   "id": "63db33fa",
   "metadata": {},
   "outputs": [],
   "source": [
    "# 목표변수 Y와 설명변수 X 선택\n",
    "Y = df1['Diagnosis']\n",
    "X = df1[df2.columns]"
   ]
  },
  {
   "cell_type": "code",
   "execution_count": null,
   "id": "3016cef1",
   "metadata": {},
   "outputs": [],
   "source": [
    "from sklearn.model_selection import train_test_split"
   ]
  },
  {
   "cell_type": "code",
   "execution_count": null,
   "id": "5a2e6104",
   "metadata": {},
   "outputs": [],
   "source": [
    "# 학습 데이터와 검증 데이터를 분할\n",
    "X_train, X_test, Y_train, Y_test = train_test_split(X,Y,\n",
    "                                                   random_state = 1234)"
   ]
  },
  {
   "cell_type": "code",
   "execution_count": null,
   "id": "d64eeda8",
   "metadata": {},
   "outputs": [],
   "source": [
    "model = DecisionTreeClassifier()\n",
    "model.fit(X_train, Y_train)"
   ]
  },
  {
   "cell_type": "code",
   "execution_count": null,
   "id": "9527db76",
   "metadata": {},
   "outputs": [],
   "source": [
    "import pickle"
   ]
  },
  {
   "cell_type": "code",
   "execution_count": null,
   "id": "2376fde9",
   "metadata": {},
   "outputs": [],
   "source": [
    "pickle.dump(model, open('Model_cell.sav', 'wb'))"
   ]
  },
  {
   "cell_type": "markdown",
   "id": "85c70d83",
   "metadata": {},
   "source": [
    "----------------"
   ]
  },
  {
   "cell_type": "markdown",
   "id": "6e5007be",
   "metadata": {},
   "source": [
    "7. 앞서 만든 모델을 아래의 평가 지표를 이용해 평가를 수행하시오.\n",
    "    - 학습능력과 일반화능력을 모두 평가\n",
    "    - Acc/ Recall/ Precision/ F1"
   ]
  },
  {
   "cell_type": "code",
   "execution_count": null,
   "id": "2ec53e05",
   "metadata": {},
   "outputs": [],
   "source": [
    "# 평가\n",
    "Y_train_pred = model.predict(X_train)\n",
    "Y_test_pred = model.predict(X_test)\n",
    "\n",
    "#학습 능력 평가\n",
    "print(accuracy_score(Y_train, Y_train_pred))\n",
    "#일반화 능력 평가\n",
    "print(accuracy_score(Y_test, Y_test_pred))"
   ]
  },
  {
   "cell_type": "code",
   "execution_count": null,
   "id": "474edb4e",
   "metadata": {},
   "outputs": [],
   "source": [
    "print(classification_report(Y_test, Y_test_pred))"
   ]
  },
  {
   "cell_type": "markdown",
   "id": "aa465301",
   "metadata": {},
   "source": [
    "### 강사님풀이"
   ]
  },
  {
   "cell_type": "code",
   "execution_count": null,
   "id": "4dd81fe3",
   "metadata": {},
   "outputs": [],
   "source": [
    "def evaluation_func1(model):\n",
    "    Y_train_pred = model.predict(X_train)\n",
    "    Y_test_pred = model.predict(X_test)\n",
    "    print('학습능력')\n",
    "    print(classification_report(Y_train, Y_train_pred))\n",
    "    print('일반화능력')\n",
    "    print(classification_report(Y_test, Y_test_pred))"
   ]
  },
  {
   "cell_type": "code",
   "execution_count": null,
   "id": "f744d126",
   "metadata": {},
   "outputs": [],
   "source": [
    "evaluation_func1(model)"
   ]
  },
  {
   "cell_type": "markdown",
   "id": "797018c4",
   "metadata": {},
   "source": [
    "--------------"
   ]
  },
  {
   "cell_type": "markdown",
   "id": "960eb331",
   "metadata": {},
   "source": [
    "8. 생성한 분류모델의 Precision과 Recall Curve를 시각화하고, 최적의 Threshold 값을 확인"
   ]
  },
  {
   "cell_type": "code",
   "execution_count": null,
   "id": "c4bef515",
   "metadata": {},
   "outputs": [],
   "source": [
    "Y_test_proba2 = model.predict_proba(X_test)[:, 1]"
   ]
  },
  {
   "cell_type": "code",
   "execution_count": null,
   "id": "82e56abb",
   "metadata": {},
   "outputs": [],
   "source": [
    "precision2, recall2, threshold2 = precision_recall_curve(Y_test, Y_test_proba2)"
   ]
  },
  {
   "cell_type": "code",
   "execution_count": null,
   "id": "64b5da84",
   "metadata": {},
   "outputs": [],
   "source": [
    "threshold2"
   ]
  },
  {
   "cell_type": "code",
   "execution_count": null,
   "id": "88b98d72",
   "metadata": {},
   "outputs": [],
   "source": [
    "df_cm_curve = pd.DataFrame()\n",
    "df_cm_curve['threshold'] = threshold2\n",
    "df_cm_curve['precision'] = precision2[:-1]\n",
    "df_cm_curve['recall']= recall2[:-1]\n",
    "\n",
    "# 시각화를 쉽게 하기 위해 데이터 프레임을 재구조화\n",
    "p2 = df_cm_curve.melt(id_vars=['threshold'])"
   ]
  },
  {
   "cell_type": "code",
   "execution_count": null,
   "id": "d2967a06",
   "metadata": {},
   "outputs": [],
   "source": [
    "px.line(p2, x='threshold', y='value', color='variable')"
   ]
  },
  {
   "cell_type": "markdown",
   "id": "345256cb",
   "metadata": {},
   "source": [
    "--------------"
   ]
  },
  {
   "cell_type": "markdown",
   "id": "f56e12d5",
   "metadata": {},
   "source": [
    "9. 앞서 계산한 최적의 Threshold 값을 이용해 Test Set을 다시 재분류하고, (M 암세포 기준 -> Positive) 계산된 값을 이용해, AUC값을 확인"
   ]
  },
  {
   "cell_type": "code",
   "execution_count": null,
   "id": "c9cfc73b",
   "metadata": {},
   "outputs": [],
   "source": [
    "custom_threshold = 0.285\n",
    "Binarizer(threshold = custom_threshold)"
   ]
  },
  {
   "cell_type": "code",
   "execution_count": null,
   "id": "86aef98b",
   "metadata": {},
   "outputs": [],
   "source": [
    "predict_proba_col2 = model.predict_proba(X_test)[:, 1].reshape(-1,1)"
   ]
  },
  {
   "cell_type": "code",
   "execution_count": null,
   "id": "205a0c2f",
   "metadata": {},
   "outputs": [],
   "source": [
    "# 새로운 임계값을 적용해 예측\n",
    "custom_bin = Binarizer(threshold=customer_threshold).fit(predict_proba_col2)\n",
    "Y_test_pred2 = custom_bin.transform(predict_proba_col2)"
   ]
  },
  {
   "cell_type": "code",
   "execution_count": null,
   "id": "14cd0b2b",
   "metadata": {},
   "outputs": [],
   "source": [
    "print(classification_report(Y_test, Y_test_pred2))"
   ]
  },
  {
   "cell_type": "code",
   "execution_count": null,
   "id": "1c190898",
   "metadata": {},
   "outputs": [],
   "source": [
    "## 강사님 풀아\n",
    "# 분류 기준값을 86% 재 설정하여, 재 분류한 결과\n",
    "Binarizer(threshold = 0.86).fit_transform(pred_proba_class2)"
   ]
  },
  {
   "cell_type": "code",
   "execution_count": null,
   "id": "e2a0e819",
   "metadata": {},
   "outputs": [],
   "source": [
    "from sklearn.metrics import roc_auc_score"
   ]
  },
  {
   "cell_type": "code",
   "execution_count": null,
   "id": "d12b8af1",
   "metadata": {},
   "outputs": [],
   "source": [
    "roc_auc_score(Y_test, custom_pred)"
   ]
  },
  {
   "cell_type": "code",
   "execution_count": null,
   "id": "c2cf8b24",
   "metadata": {},
   "outputs": [],
   "source": [
    "from sklearn.metrics import roc_curve"
   ]
  },
  {
   "cell_type": "code",
   "execution_count": null,
   "id": "14336e69",
   "metadata": {},
   "outputs": [],
   "source": [
    "fpr, tpr, thes = roc_curve(Y_test.replace({'B':0, 'M':1})),pred_proba_class1"
   ]
  },
  {
   "cell_type": "code",
   "execution_count": null,
   "id": "d6175b4c",
   "metadata": {},
   "outputs": [],
   "source": [
    "df_roc = pd.DataFrame()\n",
    "df_roc['FPR'] = fpr\n",
    "df_roc['TPR'] = tpr"
   ]
  },
  {
   "cell_type": "code",
   "execution_count": null,
   "id": "02447496",
   "metadata": {},
   "outputs": [],
   "source": [
    "px.line(df_roc, x='FPR', y='TPR')"
   ]
  }
 ],
 "metadata": {
  "kernelspec": {
   "display_name": "Python 3 (ipykernel)",
   "language": "python",
   "name": "python3"
  },
  "language_info": {
   "codemirror_mode": {
    "name": "ipython",
    "version": 3
   },
   "file_extension": ".py",
   "mimetype": "text/x-python",
   "name": "python",
   "nbconvert_exporter": "python",
   "pygments_lexer": "ipython3",
   "version": "3.11.5"
  },
  "toc": {
   "base_numbering": 1,
   "nav_menu": {},
   "number_sections": true,
   "sideBar": true,
   "skip_h1_title": false,
   "title_cell": "Table of Contents",
   "title_sidebar": "Contents",
   "toc_cell": false,
   "toc_position": {},
   "toc_section_display": true,
   "toc_window_display": false
  }
 },
 "nbformat": 4,
 "nbformat_minor": 5
}
